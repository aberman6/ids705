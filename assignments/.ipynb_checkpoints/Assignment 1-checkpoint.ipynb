{
 "cells": [
  {
   "cell_type": "markdown",
   "metadata": {},
   "source": [
    "# Assignment 1 - Probability, Linear Algebra, Programming, and Git\n",
    "\n",
    "## *Anna Berman*\n",
    "Netid:  *aeb100*"
   ]
  },
  {
   "cell_type": "markdown",
   "metadata": {},
   "source": [
    "# Probability and Statistics Theory"
   ]
  },
  {
   "cell_type": "markdown",
   "metadata": {
    "collapsed": true
   },
   "source": [
    "## 1\n",
    "Let $f(x) = \\begin{cases}\n",
    "                0           & x < 0  \\\\\n",
    "                \\alpha x^2  & 0 \\leq x \\leq 2 \\\\\n",
    "                0           & 2 < x\n",
    "            \\end{cases}$\n",
    "            \n",
    "For what value of $\\alpha$ is $f(x)$ a valid probability density function?\n",
    "\n",
    "*Note: for all assignments, write out all equations and math for all assignments using markdown and [LaTeX](https://tobi.oetiker.ch/lshort/lshort.pdf) and show all work*"
   ]
  },
  {
   "cell_type": "markdown",
   "metadata": {},
   "source": [
    "$$\n",
    "\\int_0^2\\alpha x^2dx = \\alpha\\int_0^2x^2dx \\\\\n",
    "= \\alpha\\Biggr|\\frac{x^3}{3}\\Biggr|_{0}^{2} \\\\\n",
    "= \\alpha(\\frac{2^3}{3} - \\frac{0^3}{3}) \\\\\n",
    "= \\alpha\\frac{8}{3} = 1 \\\\\n",
    "\\alpha = \\frac{3}{8}\n",
    "$$\n",
    "\n"
   ]
  },
  {
   "cell_type": "markdown",
   "metadata": {},
   "source": [
    "## 2\n",
    "What is the cumulative distribution function (CDF) that corresponds to the following probability distribution function? Please state the value of the CDF for all possible values of $x$.\n",
    "\n",
    "$f(x) = \\begin{cases}\n",
    "    \\frac{1}{3} & 0 < x < 3 \\\\\n",
    "    0           & \\text{otherwise}\n",
    "    \\end{cases}$"
   ]
  },
  {
   "cell_type": "markdown",
   "metadata": {},
   "source": [
    "$$f(x) = \\int_\\alpha^x \\frac{1}{b-a}dw$$\n",
    "$$ = \\int_0^x \\frac{1}{3}dw$$\n",
    "$$ = \\Biggr| \\frac{w}{3} \\Biggr|_0^x$$\n",
    "$$ = \\frac{x}{3}$$      \n",
    "            \n",
    "CDF: $f(x) = \\begin{cases}\n",
    "                0           & x < 0  \\\\\n",
    "                \\frac{x}{3}  & 0 \\leq x \\leq 3 \\\\\n",
    "                0           & 3 < x\n",
    "            \\end{cases}$\n",
    "            \n",
    "\n"
   ]
  },
  {
   "cell_type": "markdown",
   "metadata": {},
   "source": [
    "## 3\n",
    "For the probability distribution function for the random variable $X$,\n",
    "\n",
    "$f(x) = \\begin{cases}\n",
    "    \\frac{1}{3} & 0 < x < 3 \\\\\n",
    "    0           & \\text{otherwise}\n",
    "    \\end{cases}$\n",
    "    \n",
    "what is the (a) expected value and (b) variance of $X$. *Show all work*."
   ]
  },
  {
   "cell_type": "markdown",
   "metadata": {},
   "source": [
    "(a) Expected value:\n",
    "\n",
    "$$\n",
    "E(x) = \\int_{x_0}^{x_1}x \\cdot f(x)dx \\\\\\\n",
    " = \\int_0^3 x \\cdot \\frac{1}{3}dx \\\\\n",
    " = \\Biggr| \\frac{x^2}{6} \\Biggr|_0^3 \\\\\n",
    " = \\frac{9}{6} - 0 \\\\\n",
    " E(x) = \\frac{3}{2}\n",
    "$$\n",
    "\n",
    "\n",
    "(b) Variance:\n",
    "$$ Var(x) = \\int_{x_0}^{x_1}x^2 \\cdot f(x)dx - \\Biggr(\\int_{x_0}^{x_1}x \\cdot f(x)dx\\Biggr)^2$$\n",
    "$$ = \\int_0^3 \\frac{x^2}{3}dx - \\Biggr(\\frac{3}{2}\\Biggr)^2$$\n",
    "$$ = \\Biggr| \\frac{x^3}{9} \\Biggr|_0^3 - \\frac{9}{4}$$\n",
    "$$ = \\frac{27}{9} - \\frac{9}{4}$$\n",
    "$$ = \\frac{12}{4} - \\frac{9}{4}$$\n",
    "$$ Var(x) = \\frac{3}{4}$$\n"
   ]
  },
  {
   "cell_type": "markdown",
   "metadata": {},
   "source": [
    "## 4\n",
    "Consider the following table of data that provides the values of a discrete data vector $\\mathbf{x}$ of samples from the random variable $X$, where each entry in $\\mathbf{x}$ is given as $x_i$.\n",
    "\n",
    "*Table 1. Dataset N=5 observations*\n",
    "\n",
    "|        | $x_0$ | $x_1$ | $x_2$ | $x_3$ | $x_4$ |\n",
    "|------  |-------|-------|-------|-------|-------|\n",
    "|$\\textbf{x}$| 2     | 3     | 10    | -1    | -1    |\n",
    "\n",
    "What is the (a) mean, (b) variance, and the  of the data? \n",
    "\n",
    "*Show all work. Your answer should include the definition of mean, median, and variance in the context of discrete data.*"
   ]
  },
  {
   "cell_type": "markdown",
   "metadata": {},
   "source": [
    "(a) Mean\n",
    "$$ \\mu = \\frac{\\Sigma x_i}{n}$$\n",
    "$$ \\mu = \\frac{2 + 3 + 10 - 1 - 1}{5}$$\n",
    "$$ \\mu = \\frac{13}{5} = 2.6$$\n",
    "\n",
    "\n",
    "(b) Variance\n",
    "$$ \\sigma^2 = \\frac{\\Sigma(x-\\mu)^2}{n-1}$$\n",
    "$$ = \\frac{(2-\\frac{13}{5})^2 + (3-\\frac{13}{5})^2 + (10-\\frac{13}{5})^2 + (-1-\\frac{13}{5})^2 + (-1-\\frac{13}{4})^2}{5}$$\n",
    "$$ = \\frac{(-\\frac{3}{5})^2 + (\\frac{2}{5})^2 + (\\frac{37}{5})^2 + (-\\frac{18}{5})^2 + (-\\frac{18}{5})^2}{4}$$\n",
    "$$ = \\frac{\\frac{9}{25} + \\frac{4}{25} + \\frac{1369}{25} + \\frac{324}{25} + \\frac{324}{25}}{4}$$\n",
    "$$ = \\frac{\\frac{2030}{25}}{4}$$\n",
    "$$ = \\frac{2030}{100}$$\n",
    "$$ \\sigma^2 = 20.3$$"
   ]
  },
  {
   "cell_type": "markdown",
   "metadata": {},
   "source": [
    "## 5\n",
    "Review of counting from probability theory. \n",
    "\n",
    "(a) How many different 7-place license plates are possible if the first 3 places only contain letters and the last 4 only contain numbers?\n",
    "\n",
    "(b) How many different batting orders are possible for a baseball team with 9 players?\n",
    "\n",
    "(c) How many batting orders of 5 players are possible for a team with 9 players total?\n",
    "\n",
    "(d) Let's assume this class has 26 students and we want to form project teams. How many unique teams of 3 are possible?\n",
    "\n",
    "*Hint: For each problem, determine if order matters, and if it should be calculated with or without replacement.*"
   ]
  },
  {
   "cell_type": "markdown",
   "metadata": {},
   "source": [
    "(a)\n",
    "\n",
    "$$ 26 \\cdot 26 \\cdot 26 \\cdot 10 \\cdot 10 \\cdot 10 \\cdot 10 = 175,760,000 $$\n",
    "\n",
    "(b)\n",
    "\n",
    "$$ 9! = 362,880 $$\n",
    "\n",
    "(c)\n",
    "\n",
    "$$ \\frac{n!}{(n-k)!} $$\n",
    "$$ \\frac{9!}{(9-5)!} $$\n",
    "$$ \\frac{9!}{(4)!} $$\n",
    "$$ 9 \\cdot 8 \\cdot 7 \\cdot 6 \\cdot 5 = 15,120 $$\n",
    "\n",
    "(d)\n",
    "\n",
    "$$ \\frac{n!}{k!(n-k)!} $$\n",
    "$$ \\frac{26!}{3!(26-3)!} $$\n",
    "$$ \\frac{26!}{3!(26-3)!} $$\n",
    "$$ \\frac{26\\cdot25\\cdot24}{3\\cdot2} $$\n",
    "$$ 2,600 $$"
   ]
  },
  {
   "cell_type": "markdown",
   "metadata": {},
   "source": [
    "# Linear Algebra"
   ]
  },
  {
   "cell_type": "markdown",
   "metadata": {},
   "source": [
    "## 6\n",
    "**Matrix manipulations and multiplication**. Machine learning involves working with many matrices, so this exercise will provide you with the opportunity to practice those skills.\n",
    "\n",
    "Let\n",
    "$\\mathbf{A} =  \\begin{bmatrix}\n",
    "1 & 2 & 3 \\\\\n",
    "2 & 4 & 5 \\\\\n",
    "3 & 5 & 6 \n",
    "\\end{bmatrix}$, $\\mathbf{b} =  \\begin{bmatrix}\n",
    "-1  \\\\\n",
    "3  \\\\\n",
    "8  \n",
    "\\end{bmatrix}$, $\\mathbf{c} =  \\begin{bmatrix}\n",
    "4  \\\\\n",
    "-3  \\\\\n",
    "6  \n",
    "\\end{bmatrix}$, and $\\mathbf{I} =  \\begin{bmatrix}\n",
    "1 & 0 & 0 \\\\\n",
    "0 & 1 & 0 \\\\\n",
    "0 & 0 & 1 \n",
    "\\end{bmatrix}$\n",
    "\n",
    "Compute the following or indicate that it cannot be computed:\n",
    "\n",
    "1. $\\mathbf{A}\\mathbf{A}$\n",
    "2. $\\mathbf{A}\\mathbf{A}^T$\n",
    "3. $\\mathbf{A}\\mathbf{b}$\n",
    "4. $\\mathbf{A}\\mathbf{b}^T$\n",
    "5. $\\mathbf{b}\\mathbf{A}$ \n",
    "6. $\\mathbf{b}^T\\mathbf{A}$\n",
    "7. $\\mathbf{b}\\mathbf{b}$\n",
    "8. $\\mathbf{b}^T\\mathbf{b}$\n",
    "9. $\\mathbf{b}\\mathbf{b}^T$\n",
    "10. $\\mathbf{b} + \\mathbf{c}^T$\n",
    "11. $\\mathbf{b}^T\\mathbf{b}^T$\n",
    "12. $\\mathbf{A}^{-1}\\mathbf{b}$\n",
    "13. $\\mathbf{A}\\circ\\mathbf{A}$\n",
    "14. $\\mathbf{b}\\circ\\mathbf{c}$\n",
    "\n",
    "*Note: The element-wise (or Hadamard) product is the product of each element in one matrix with the corresponding element in another matrix, and is represented by the symbol \"$\\circ$\".*"
   ]
  },
  {
   "cell_type": "markdown",
   "metadata": {},
   "source": [
    "1. $\\mathbf{A}\\mathbf{A}$\n",
    "\n",
    "$$\\begin{bmatrix}\n",
    "1 & 2 & 3 \\\\\n",
    "2 & 4 & 5 \\\\\n",
    "3 & 5 & 6 \n",
    "\\end{bmatrix}\n",
    "\\begin{bmatrix}\n",
    "1 & 2 & 3 \\\\\n",
    "2 & 4 & 5 \\\\\n",
    "3 & 5 & 6 \n",
    "\\end{bmatrix}$$\n",
    "\n",
    "$$\\begin{bmatrix}\n",
    "1+4+9 & 2+8+15 & 3+10+18 \\\\\n",
    "2+8+15 & 4+16+25 & 6+20+30 \\\\\n",
    "3+10+18 & 6+20+30 & 9+25+36\n",
    "\\end{bmatrix}$$\n",
    "\n",
    "$$\\begin{bmatrix}\n",
    "14 & 25 & 31 \\\\\n",
    "25 & 45 & 56 \\\\\n",
    "31 & 56 & 70 \n",
    "\\end{bmatrix}$$\n",
    "\n",
    "\n",
    "2. $\\mathbf{A}\\mathbf{A}^T$\n",
    "\n",
    "$$\\mathbf{A}\\mathbf{A}^T = \\mathbf{A}\\mathbf{A} = \\begin{bmatrix}\n",
    "14 & 25 & 31 \\\\\n",
    "25 & 45 & 56 \\\\\n",
    "31 & 56 & 70 \n",
    "\\end{bmatrix}$$\n",
    "\n",
    "3. $\\mathbf{A}\\mathbf{b}$\n",
    "\n",
    "$$\\begin{bmatrix}\n",
    "1 & 2 & 3 \\\\\n",
    "2 & 4 & 5 \\\\\n",
    "3 & 5 & 6 \n",
    "\\end{bmatrix}\n",
    "\\begin{bmatrix}\n",
    "-1  \\\\\n",
    "3  \\\\\n",
    "8  \n",
    "\\end{bmatrix}$$\n",
    "\n",
    "$$\n",
    "\\begin{bmatrix}\n",
    "-1+6+24 \\\\\n",
    "-2+12+40 \\\\\n",
    "-1+15+48\n",
    "\\end{bmatrix}$$\n",
    "\n",
    "$$\n",
    "\\begin{bmatrix}\n",
    "29 \\\\\n",
    "50 \\\\\n",
    "60\n",
    "\\end{bmatrix}$$\n",
    "\n",
    "4. $\\mathbf{A}\\mathbf{b}^T$\n",
    "Cannot be commuted\n",
    "\n",
    "5. $\\mathbf{b}\\mathbf{A}$ \n",
    "Cannot be commuted\n",
    "\n",
    "6. $\\mathbf{b}^T\\mathbf{A}$\n",
    "$$\\begin{bmatrix}\n",
    "-1 & 3 & 8\n",
    "\\end{bmatrix}\n",
    "\\begin{bmatrix}\n",
    "1 & 2 & 3 \\\\\n",
    "2 & 4 & 5 \\\\\n",
    "3 & 5 & 6 \n",
    "\\end{bmatrix}$$\n",
    "\n",
    "$$\n",
    "\\begin{bmatrix}\n",
    "-1+6+24 & -2+12+40 & -1+15+48\n",
    "\\end{bmatrix}$$\n",
    "\n",
    "$$\n",
    "\\begin{bmatrix}\n",
    "29 & 50 & 60\n",
    "\\end{bmatrix}$$\n",
    "\n",
    "7. $\\mathbf{b}\\mathbf{b}$\n",
    "Cannot be commuted\n",
    "\n",
    "8. $\\mathbf{b}^T\\mathbf{b}$\n",
    "$$\\begin{bmatrix}\n",
    "-1 & 3 & 8\n",
    "\\end{bmatrix}\n",
    "\\begin{bmatrix}\n",
    "-1  \\\\\n",
    "3  \\\\\n",
    "8  \n",
    "\\end{bmatrix}$$\n",
    "\n",
    "$$\\begin{bmatrix}\n",
    "1 + 9 + 64\n",
    "\\end{bmatrix}$$\n",
    "\n",
    "$$\\begin{bmatrix}\n",
    "74\n",
    "\\end{bmatrix}$$\n",
    "\n",
    "\n",
    "\n",
    "\n",
    "9. $\\mathbf{b}^T\\mathbf{b}$\n",
    "$$\\begin{bmatrix}\n",
    "-1  \\\\\n",
    "3  \\\\\n",
    "8  \n",
    "\\end{bmatrix}\\begin{bmatrix}\n",
    "-1 & 3 & 8\n",
    "\\end{bmatrix}\n",
    "$$\n",
    "$$\\begin{bmatrix}\n",
    "1 & -3 & -8 \\\\\n",
    "-3 & 9 & 24 \\\\\n",
    "-8 & 24 & 64\n",
    "\\end{bmatrix}$$\n",
    "\n",
    "10. $\\mathbf{b} + \\mathbf{c}^T$\n",
    "Cannot be commuted\n",
    "\n",
    "11. $\\mathbf{b}^T\\mathbf{b}^T$\n",
    "Cannot be commuted\n",
    "\n",
    "12. $\\mathbf{A}^{-1}\\mathbf{b}$\n",
    "$$\\mathbf{A}^{-1}\n",
    "\\rightarrow\n",
    "\\begin{bmatrix}\n",
    "1 & 2 & 3 & 1 & 0 & 0 \\\\\n",
    "2 & 4 & 5 & 0 & 1 & 0 \\\\\n",
    "3 & 5 & 6 & 0 & 0 & 1\n",
    "\\end{bmatrix} \n",
    "\\rightarrow\n",
    "\\begin{bmatrix}\n",
    "1 & 2 & 3 & 1 & 0 & 0 \\\\\n",
    "0 & 0 & -1 & -2 & 1 & 0 \\\\\n",
    "0 & -1 & -3 & -3 & 0 & 1\n",
    "\\end{bmatrix} \n",
    "\\rightarrow\n",
    "\\begin{bmatrix}\n",
    "1 & 2 & 3 & 1 & 0 & 0 \\\\\n",
    "0 & 1 & 3 & 3 & 0 & -1 \\\\\n",
    "0 & 0 & 1 & 2 & -1 & 0\n",
    "\\end{bmatrix}\n",
    "\\rightarrow\n",
    "\\begin{bmatrix}\n",
    "1 & 2 & 0 & -5 & 3 & 0 \\\\\n",
    "0 & 1 & 0 & -3 & 3 & -1 \\\\\n",
    "0 & 0 & 1 & 2 & -1 & 0\n",
    "\\end{bmatrix}\n",
    "\\rightarrow\n",
    "\\begin{bmatrix}\n",
    "1 & 0 & 0 & 1 & -3 & 2 \\\\\n",
    "0 & 1 & 0 & -3 & 3 & -1 \\\\\n",
    "0 & 0 & 1 & 2 & -1 & 0\n",
    "\\end{bmatrix}\n",
    "$$\n",
    "\n",
    "$$\\mathbf{A}^{-1}\\mathbf{b} = \\begin{bmatrix}\n",
    "1 & -3 & 2 \\\\\n",
    "-3 & 3 & -1 \\\\\n",
    "2 & -1 & 0\n",
    "\\end{bmatrix}\n",
    " \\begin{bmatrix}\n",
    "-1  \\\\\n",
    "3  \\\\\n",
    "8  \n",
    "\\end{bmatrix}$$\n",
    "\n",
    "$$\\begin{bmatrix}\n",
    "-1-9+16 \\\\\n",
    "3+9-8 \\\\\n",
    "-2-3+0 \n",
    "\\end{bmatrix}$$\n",
    "\n",
    "$$\\begin{bmatrix}\n",
    "6 \\\\\n",
    "4 \\\\\n",
    "-5\n",
    "\\end{bmatrix}$$\n",
    "\n",
    "\n",
    "13. $\\mathbf{A}\\circ\\mathbf{A}$\n",
    "$$\\begin{bmatrix}\n",
    "1 & 2 & 3 \\\\\n",
    "2 & 4 & 5 \\\\\n",
    "3 & 5 & 6 \n",
    "\\end{bmatrix}\n",
    "\\circ\n",
    "\\begin{bmatrix}\n",
    "1 & 2 & 3 \\\\\n",
    "2 & 4 & 5 \\\\\n",
    "3 & 5 & 6 \n",
    "\\end{bmatrix}$$\n",
    "$$\\begin{bmatrix}\n",
    "1 & 4 & 9 \\\\\n",
    "4 & 16 & 25 \\\\\n",
    "9 & 25 & 36 \n",
    "\\end{bmatrix}$$\n",
    "\n",
    "14. $\\mathbf{b}\\circ\\mathbf{c}$\n",
    "$$\\begin{bmatrix}\n",
    "-1  \\\\\n",
    "3  \\\\\n",
    "8  \n",
    "\\end{bmatrix}\n",
    "\\circ\n",
    "\\begin{bmatrix}\n",
    "4  \\\\\n",
    "-3  \\\\\n",
    "6  \n",
    "\\end{bmatrix}$$\n",
    "$$\\begin{bmatrix}\n",
    "-4  \\\\\n",
    "-9  \\\\\n",
    "48  \n",
    "\\end{bmatrix}$$\n",
    "\n",
    "\n"
   ]
  },
  {
   "cell_type": "code",
   "execution_count": 34,
   "metadata": {},
   "outputs": [
    {
     "name": "stdout",
     "output_type": "stream",
     "text": [
      "1 : [[14 25 31]\n",
      " [25 45 56]\n",
      " [31 56 70]]\n",
      "2 : [[14 25 31]\n",
      " [25 45 56]\n",
      " [31 56 70]]\n",
      "3 : [[29]\n",
      " [50]\n",
      " [60]]\n",
      "4 : Cannot be commuted\n",
      "5 : Cannot be commuted\n",
      "6 : [[29 50 60]]\n",
      "7 : Cannot be commuted\n",
      "8 : [[74]]\n",
      "9 : [[ 1 -3 -8]\n",
      " [-3  9 24]\n",
      " [-8 24 64]]\n",
      "10 : Cannot be communted\n",
      "11 : Cannot be communted\n",
      "12 : [[ 6.]\n",
      " [ 4.]\n",
      " [-5.]]\n",
      "13:  [[ 1  4  9]\n",
      " [ 4 16 25]\n",
      " [ 9 25 36]]\n",
      "13:  [[-4]\n",
      " [-9]\n",
      " [48]]\n"
     ]
    }
   ],
   "source": [
    "import numpy as np\n",
    "\n",
    "A = np.matrix('1,2,3; 2,4,5; 3,5,6')\n",
    "b = np.matrix('-1; 3; 8')\n",
    "c = np.matrix('4; -3; 6')\n",
    "I = np.matrix('1,0,0; 0,1,0; 0,0,1')\n",
    "\n",
    "# 1 AA\n",
    "print('1 :', np.matmul(A,A))\n",
    "\n",
    "# 2 AA^T\n",
    "print('2 :', np.matmul(A,A.transpose()))\n",
    "\n",
    "# 3 Ab\n",
    "print('3 :', np.matmul(A,b))\n",
    "\n",
    "# 4 Ab^T\n",
    "print('4 : Cannot be commuted')\n",
    "\n",
    "# 5 bA\n",
    "print('5 : Cannot be commuted')\n",
    "\n",
    "# 6 b^TA\n",
    "print('6 :', np.matmul(b.transpose(),A))\n",
    "\n",
    "# 7 bb\n",
    "print('7 : Cannot be commuted')\n",
    "\n",
    "# 8 b^Tb\n",
    "print('8 :', np.matmul(b.transpose(), b))\n",
    "\n",
    "# 9 bb^T\n",
    "print('9 :', np.matmul(b, b.transpose()))\n",
    "\n",
    "# 10 b + c^T\n",
    "print('10 : Cannot be communted')\n",
    "\n",
    "# 11 b^Tb^T\n",
    "print('11 : Cannot be communted')\n",
    "\n",
    "# 12 A^1b\n",
    "print('12 :', np.matmul(A.I, b))\n",
    "\n",
    "# 13 A*A\n",
    "print('13: ', np.array(A)*np.array(A))\n",
    "\n",
    "# 13 b*c\n",
    "print('13: ', np.array(b)*np.array(c))\n",
    "\n"
   ]
  },
  {
   "cell_type": "markdown",
   "metadata": {},
   "source": [
    "## 6\n",
    "**Eigenvectors and eigenvalues**. Eigenvectors and eigenvalues are useful for some machine learning algorithms, but the concepts take time to solidly grasp. For an intuitive review of these concepts, explore this [interactive website at Setosa.io](http://setosa.io/ev/eigenvectors-and-eigenvalues/). Also, the series of linear algebra videos by Grant Sanderson of 3Brown1Blue are excellent and can be viewed on youtube [here](https://www.youtube.com/playlist?list=PLZHQObOWTQDPD3MizzM2xVFitgF8hE_ab).\n",
    "\n",
    "1. Calculate the eigenvalues and corresponding eigenvectors of matrix $\\mathbf{A}$ above, from the last question.\n",
    "2. Choose one of the eigenvector/eigenvalue pairs, $\\mathbf{v}$ and $\\lambda$, and show that $\\mathbf{A} \\mathbf{v} = \\lambda \\mathbf{v}$. Also show that this relationship extends to higher orders: $\\mathbf{A} \\mathbf{A} \\mathbf{v} = \\lambda^2 \\mathbf{v}$\n",
    "3. Show that the eigenvectors are orthogonal to one another (e.g. their inner product is zero). This is true for real, symmetric matrices."
   ]
  },
  {
   "cell_type": "code",
   "execution_count": 103,
   "metadata": {},
   "outputs": [
    {
     "name": "stdout",
     "output_type": "stream",
     "text": [
      "Av = λv : \n",
      " [ True  True  True] \n",
      "\n",
      "AAv = λ^2v : \n",
      " [ True  True  True] \n",
      "\n",
      "Inner product of v1 and v2:  -0.0\n",
      "Inner product of v2 and v3:  -0.0\n",
      "Inner product of v1 and v3:  -0.0\n"
     ]
    }
   ],
   "source": [
    "import numpy as np\n",
    "\n",
    "# Define A\n",
    "#A = np.matrix('1,2,3; 2,4,5; 3,5,6')\n",
    "A = np.array([[1,2,3], [2,4,5], [3,5,6]])\n",
    "\n",
    "# Find the eigenvalues and corresponding eigenvectors\n",
    "eigVals, eigVecs = np.linalg.eig(A)\n",
    "\n",
    "# Select first eigenpair\n",
    "lamd = eigVals[0]\n",
    "v = eigVecs[:,0]\n",
    "\n",
    "# Show that Av = λv\n",
    "side1 = np.matmul(A,v)\n",
    "side2 = lamd*v\n",
    "print('Av = λv : \\n', np.round(side1,10)==np.round(side2,10), '\\n')\n",
    "\n",
    "# Show that AAv = λ^2v\n",
    "side1 = np.matmul(A,np.matmul(A,v))\n",
    "side2 = lamd**2*v\n",
    "print('AAv = λ^2v : \\n', np.round(side1,10)==np.round(side2,10), '\\n')\n",
    "\n",
    "# Show that eigenvectors are orthogonal\n",
    "v1 = eigVecs[:,0]\n",
    "v2 = eigVecs[:,1]\n",
    "v3 = eigVecs[:,2]\n",
    "print('Inner product of v1 and v2: ', np.round(v1.dot(v2),10))\n",
    "print('Inner product of v2 and v3: ', np.round(v2.dot(v3),10))\n",
    "print('Inner product of v1 and v3: ', np.round(v1.dot(v3),10))\n"
   ]
  },
  {
   "cell_type": "markdown",
   "metadata": {},
   "source": [
    "# Numerical Programming"
   ]
  },
  {
   "cell_type": "markdown",
   "metadata": {},
   "source": [
    "## 7\n",
    "Speed comparison between vectorized and non-vectorized code. Begin by creating an array of 10 million random numbers using the numpy random.randn module. Compute the sum of the squares first in a for loop, then using Numpy's `dot` module. Time how long it takes to compute each and report the results and report the output. How many times faster is the vectorized code than the for loop approach?\n",
    "\n",
    "*Note: all code should be well commented, properly formatted, and your answers should be output using the `print()` function as follows (where the # represents your answers, to a reasonable precision):\n",
    "\n",
    "`Time [sec] (non-vectorized): ######`\n",
    "\n",
    "`Time [sec] (vectorized):     ######`\n",
    "\n",
    "`The vectorized code is ##### times faster than the vectorized code`"
   ]
  },
  {
   "cell_type": "markdown",
   "metadata": {},
   "source": []
  },
  {
   "cell_type": "code",
   "execution_count": 59,
   "metadata": {},
   "outputs": [
    {
     "name": "stdout",
     "output_type": "stream",
     "text": [
      "Time [sec] (non-vectorized):  56.98\n",
      "Time [sec] (vectorized):  0.05\n",
      "The vectorized code is,  1169.49 times faster than the vectorized code\n"
     ]
    }
   ],
   "source": [
    "import numpy as np\n",
    "import time\n",
    "\n",
    "# Generate the random samples\n",
    "n = 100000000\n",
    "r = np.random.randn(n)\n",
    "\n",
    "\n",
    "\n",
    "# Compute the sum of squares the non-vectorized way (using a for loop)\n",
    "# Start time\n",
    "start_time = time.time()\n",
    "\n",
    "# Calcuate the mean of the observations\n",
    "mu = np.mean(r)\n",
    "\n",
    "# Find sum of squares\n",
    "summ = 0\n",
    "for i in r:\n",
    "    summ = summ + (i-mu)**2\n",
    "    pass\n",
    "\n",
    "# End the time counter and calcuate total time\n",
    "end_time = time.time()\n",
    "time_nonvec = end_time-start_time\n",
    "\n",
    "\n",
    "\n",
    "# Compute the sum of squares the vectorized way (using numpy)\n",
    "start_time = time.time()\n",
    "summ_vec = np.dot(r,r)\n",
    "end_time = time.time()\n",
    "time_vec = end_time-start_time\n",
    "\n",
    "\n",
    "# Print the results\n",
    "print(\"Time [sec] (non-vectorized): \", round(time_nonvec,2))\n",
    "print(\"Time [sec] (vectorized): \", round(time_vec,2))\n",
    "print(\"The vectorized code is, \", round(time_nonvec/time_vec,2), \"times faster than the vectorized code\")"
   ]
  },
  {
   "cell_type": "markdown",
   "metadata": {},
   "source": [
    "## 8\n",
    "One popular Agile development framework is Scrum (a paradigm recommended for data science projects). It emphasizes the continual evolution of code for projects, becoming progressively better, but starting with a quickly developed minimum viable product. This often means that code written early on is not optimized, and that's a good thing - it's best to get it to work first before optimizing. Imagine that you wrote the following code during a sprint towards getting an end-to-end system working. Vectorize the following code and show the difference in speed between the current implementation and a vectorized version.\n",
    "\n",
    "The function below computes the function $f(x,y) = x^2 - 2 y^2$ and determines whether this quantity is above or below a given threshold, `thresh=0`. This is done for $x,y \\in \\{-4,4\\}$, over a 2,000-by-2,000 grid covering that domain.\n",
    "\n",
    "(a) Vectorize this code and demonstrate (as in the last exercise) the speed increase through vectorization and (b) plot the resulting data - both the function $f(x,y)$ and the thresholded output - using [`imshow`](https://matplotlib.org/api/_as_gen/matplotlib.pyplot.imshow.html?highlight=matplotlib%20pyplot%20imshow#matplotlib.pyplot.imshow) from `matplotlib`.\n",
    "\n",
    "*Hint: look at the `numpy` [`meshgrid`](https://docs.scipy.org/doc/numpy-1.13.0/reference/generated/numpy.meshgrid.html) documentation*"
   ]
  },
  {
   "cell_type": "code",
   "execution_count": 148,
   "metadata": {
    "scrolled": true
   },
   "outputs": [
    {
     "name": "stdout",
     "output_type": "stream",
     "text": [
      "Time [sec] (non-vectorized):  7.47\n",
      "Time [sec] (vectorized):  0.05\n",
      "The vectorized code is,  143.3 times faster than the vectorized code\n"
     ]
    },
    {
     "data": {
      "image/png": "[encoded data removed]",
      "text/plain": [
       "<Figure size 432x288 with 1 Axes>"
      ]
     },
     "metadata": {},
     "output_type": "display_data"
    },
    {
     "data": {
      "image/png": "[encoded data removed]",
      "text/plain": [
       "<Figure size 432x288 with 1 Axes>"
      ]
     },
     "metadata": {},
     "output_type": "display_data"
    }
   ],
   "source": [
    "import numpy as np\n",
    "import time\n",
    "import matplotlib.pyplot as plt\n",
    "\n",
    "# Initialize variables for this exerise\n",
    "# Initialize scale and threshold\n",
    "x = np.linspace(-4,4, num = 2000)\n",
    "y = np.linspace(-4,4, num = 2000)\n",
    "thresh = 0\n",
    "\n",
    "\n",
    "# Nonvectorized implementation\n",
    "start_time = time.time()\n",
    "\n",
    "# Set up grid\n",
    "X,Y = np.meshgrid(x,y)\n",
    "nonVec = np.zeros((2000,2000))\n",
    "\n",
    "# Define function\n",
    "def f(x, y):\n",
    "    func = x**2 - 2*y**2\n",
    "    if func > thresh:\n",
    "        return 1\n",
    "    else:\n",
    "        return 0\n",
    "    pass\n",
    "\n",
    "#Iterate over non-vectorized grid\n",
    "for i in range(2000):\n",
    "    for j in range(2000):\n",
    "        nonVec[i,j] = f(X[i,j],Y[i,j])\n",
    "        pass\n",
    "    pass\n",
    "end_time = time.time()\n",
    "time_nonvec = end_time-start_time\n",
    "\n",
    "\n",
    "# Vectorized implementation\n",
    "start_time = time.time()\n",
    "X, Y = np.meshgrid(x, y)\n",
    "vec = X**2 - 2*Y**2\n",
    "vec = vec > thresh\n",
    "end_time = time.time()\n",
    "time_vec = end_time-start_time\n",
    "\n",
    "\n",
    "\n",
    "# Print the time for each and the speed increase\n",
    "print(\"Time [sec] (non-vectorized): \", round(time_nonvec,2))\n",
    "print(\"Time [sec] (vectorized): \", round(time_vec,2))\n",
    "print(\"The vectorized code is, \", round(time_nonvec/time_vec,2), \"times faster than the vectorized code\")\n",
    "\n",
    "\n",
    "# Plot the result\n",
    "plt.imshow(nonVec)\n",
    "plt.title('Nonvectorized implementation')\n",
    "plt.show()\n",
    "plt.imshow(vec)\n",
    "plt.title('Vectorized implementation')\n",
    "plt.show()\n"
   ]
  },
  {
   "cell_type": "markdown",
   "metadata": {},
   "source": [
    "## 9\n",
    "This exercise will walk through some basic numerical programming exercises.\n",
    "1. Synthesize $n=10^4$ normally distributed data points with mean $\\mu=2$ and a standard deviation of $\\sigma=1$. Call these observations from a random variable $X$, and call the vector of observations that you generate, $\\textbf{x}$.\n",
    "2. Calculate the mean and standard deviation of $\\textbf{x}$ to validate (1) and provide the result to a precision of four significant figures.\n",
    "3. Plot a histogram of the data in $\\textbf{x}$ with 30 bins\n",
    "4. What is the 90th percentile of $\\textbf{x}$? The 90th percentile is the value below which 90% of observations can be found.\n",
    "5. What is the 99th percentile of $\\textbf{x}$?\n",
    "6. Now synthesize $n=10^4$ normally distributed data points with mean $\\mu=0$ and a standard deviation of $\\sigma=3$. Call these observations from a random variable $Y$, and call the vector of observations that you generate, $\\textbf{y}$.\n",
    "7. Plot the histogram of the data in $\\textbf{y}$ on a (new) plot with the histogram of $\\textbf{x}$, so that both histograms can be seen and compared.\n",
    "8. Using the observations from $\\textbf{x}$ and $\\textbf{y}$, estimate $E[XY]$"
   ]
  },
  {
   "cell_type": "markdown",
   "metadata": {},
   "source": [
    "**ANSWER**"
   ]
  },
  {
   "cell_type": "code",
   "execution_count": 119,
   "metadata": {},
   "outputs": [
    {
     "name": "stdout",
     "output_type": "stream",
     "text": [
      "Observed x mean:  1.989\n",
      "Observed x standard deviation:  0.9862\n"
     ]
    },
    {
     "data": {
      "image/png": "[encoded data removed]",
      "text/plain": [
       "<Figure size 432x288 with 1 Axes>"
      ]
     },
     "metadata": {},
     "output_type": "display_data"
    },
    {
     "name": "stdout",
     "output_type": "stream",
     "text": [
      "x 90th percentile:  3.275\n",
      "x 99th percentile:  4.277\n"
     ]
    },
    {
     "data": {
      "image/png": "[encoded data removed]",
      "text/plain": [
       "<Figure size 432x288 with 1 Axes>"
      ]
     },
     "metadata": {},
     "output_type": "display_data"
    },
    {
     "name": "stdout",
     "output_type": "stream",
     "text": [
      "E(XY) = E(X) + E(Y) =  1.989  +  0.03534  =  2.024\n"
     ]
    }
   ],
   "source": [
    "import numpy as np\n",
    "import matplotlib.pyplot as plt\n",
    "\n",
    "# 1\n",
    "# Generate normally distributed data points with mean μ=2 and a standard deviation of σ=1\n",
    "mu, sd = 2, 1 # mean and standard deviation\n",
    "x = np.random.normal(mu, sd, 10000)\n",
    "\n",
    "# 2\n",
    "# Calculate the mean and standard deviation and provide the result to a precision of four significant figures\n",
    "print('Observed x mean: ', '%s' % float('%.4g' % np.mean(x)))\n",
    "print('Observed x standard deviation: ', '%s' % float('%.4g' % np.std(x)))\n",
    "\n",
    "# 3\n",
    "# Plot histogram\n",
    "plt.hist(x, 30, label = 'x: N(2,1)')\n",
    "plt.legend(loc='upper right')\n",
    "plt.show()\n",
    "\n",
    "# 4\n",
    "# What is the 90th percentile of  x ?\n",
    "print('x 90th percentile: ', '%s' % float('%.4g' % np.percentile(x, 90)))\n",
    "\n",
    "# 5\n",
    "# What is the 90th percentile of  x ?\n",
    "print('x 99th percentile: ', '%s' % float('%.4g' % np.percentile(x, 99)))\n",
    "\n",
    "# 6\n",
    "# Generate normally distributed data points with mean μ=2 and a standard deviation of σ=1\n",
    "mu, sd = 0, 3 # mean and standard deviation\n",
    "y = np.random.normal(mu, sd, 10000)\n",
    "\n",
    "# 7\n",
    "# Plot the histogram of the data in y on a (new) plot with the histogram of x\n",
    "plt.hist(x, 30, alpha = .5, label = 'x: N(2,1)')\n",
    "plt.hist(y, 30, alpha = .5, label = 'y: N(0,3)')\n",
    "plt.legend(loc='upper right')\n",
    "plt.show()\n",
    "\n",
    "# 8\n",
    "print('E(XY) = E(X) + E(Y) = ', \n",
    "      '%s' % float('%.4g' % np.mean(x)), ' + ', '%s' % float('%.4g' % np.mean(y)), \n",
    "      ' = ', '%s' % float('%.4g' % (np.mean(x) + np.mean(y))))\n"
   ]
  },
  {
   "cell_type": "markdown",
   "metadata": {},
   "source": [
    "## 10\n",
    "Estimate the integral of the function $f(x)$ on the interval $0\\leq x < 2.5$ assuming we only know the following points from $f$:\n",
    "\n",
    "*Table 1. Dataset containing n=5 observations*\n",
    "\n",
    "| $x_i$ | 0.0 | 0.5 | 1.0 | 1.5 | 2.0 |\n",
    "|-|-|-|-|-|-|\n",
    "| $y_i$ | 6 | 7 | 8 | 4 | 1 |\n"
   ]
  },
  {
   "cell_type": "code",
   "execution_count": 142,
   "metadata": {},
   "outputs": [
    {
     "name": "stdout",
     "output_type": "stream",
     "text": [
      "Estimated integral =  11.25\n"
     ]
    }
   ],
   "source": [
    "import numpy as np\n",
    "\n",
    "#Initialize variables\n",
    "t = .5 # step\n",
    "x = np.arange(0,2.5,t)\n",
    "y = np.array((6,7,8,4,1))\n",
    "\n",
    "# Calculate right hand sum and left hand sum\n",
    "rhs = 0\n",
    "for i in range(1,len(y)):\n",
    "    rhs = rhs + y[i]*t\n",
    "    #print(y[i]*t)\n",
    "    pass\n",
    "\n",
    "lhs = 0\n",
    "for i in range(0,len(y)-1):\n",
    "    lhs = lhs + y[i]*t\n",
    "    #print(y[i]*t)\n",
    "    pass\n",
    "\n",
    "# Average right and left hand sum to estimate integral\n",
    "estimate = (rhs + lhs)/2\n",
    "print('Estimated integral = ', estimate)\n",
    "\n"
   ]
  },
  {
   "cell_type": "markdown",
   "metadata": {
    "collapsed": true
   },
   "source": [
    "# Version Control via Git"
   ]
  },
  {
   "cell_type": "markdown",
   "metadata": {},
   "source": [
    "## 11\n",
    "Complete the [Atlassian Git tutorial](https://www.atlassian.com/git/tutorials/what-is-version-control), specifically the following sections. Try each concept that's presented. For this tutorial, instead of using BitBucket, use Github. Create a github account here if you don't already have one: https://github.com/\n",
    "1. [What is version control](https://www.atlassian.com/git/tutorials/what-is-version-control)\n",
    "2. [What is Git](https://www.atlassian.com/git/tutorials/what-is-git)\n",
    "3. [Install Git](https://www.atlassian.com/git/tutorials/install-git)\n",
    "4. [Setting up a repository](https://www.atlassian.com/git/tutorials/install-git)\n",
    "5. [Saving changes](https://www.atlassian.com/git/tutorials/saving-changes)\n",
    "6. [Inspecting a repository](https://www.atlassian.com/git/tutorials/inspecting-a-repository)\n",
    "7. [Undoing changes](https://www.atlassian.com/git/tutorials/undoing-changes)\n",
    "8. [Rewriting history](https://www.atlassian.com/git/tutorials/rewriting-history)\n",
    "9. [Syncing](https://www.atlassian.com/git/tutorials/syncing)\n",
    "10. [Making a pull request](https://www.atlassian.com/git/tutorials/making-a-pull-request)\n",
    "11. [Using branches](https://www.atlassian.com/git/tutorials/using-branches)\n",
    "12. [Comparing workflows](https://www.atlassian.com/git/tutorials/comparing-workflows)\n",
    "\n",
    "For your answer, affirm that you either completed the tutorial or have previous experience with all of the concepts above. Do this by typing your name below and selecting the situation that applies from the two options in brackets."
   ]
  },
  {
   "cell_type": "markdown",
   "metadata": {},
   "source": [
    "**I, Anna Berman, affirm that I have completed the above tutorial.**"
   ]
  },
  {
   "cell_type": "markdown",
   "metadata": {},
   "source": [
    "## 12\n",
    "Using Github to create a static HTML website:\n",
    "1. Create a branch in your `machine-learning-course` repo called \"gh-pages\" and checkout that branch (this will provide an example of how to create a simple static website using [Github Pages](https://pages.github.com/))\n",
    "2. Create a file called \"index.html\" with the contents \"Hello World\" and add, commit, and push it to that branch.\n",
    "3. Submit the following: (a) a link to your github repository and (b) a link to your new \"Hello World\" website. The latter should be at the address https://[USERNAME].github.io/ECE590-assignment0 (where [USERNAME] is your github username)."
   ]
  },
  {
   "cell_type": "markdown",
   "metadata": {},
   "source": [
    "**ANSWER**\n",
    "\n"
   ]
  },
  {
   "cell_type": "markdown",
   "metadata": {
    "collapsed": true
   },
   "source": [
    "# Exploratory Data Analysis\n",
    "## 13\n",
    "Here you'll bring together some of the individual skills that you demonstrated above and create a Jupyter notebook based blog post on data analysis.\n",
    "\n",
    "1. Find a dataset that interests you and relates to a question or problem that you find intriguing\n",
    "2. Using a Jupyter notebook, describe the dataset, the source of the data, and the reason the dataset was of interest.\n",
    "3. Check the data and see if they need to be cleaned: are there missing values? Are there clearly erroneous values? Do two tables need to be merged together? Clean the data so it can be visualized.\n",
    "3. Plot the data, demonstrating interesting features that you discover. Are there any relationships between variables that were surprising or patterns that emerged? Please exercise creativity and curiosity in your plots.\n",
    "4. What insights are you able to take away from exploring the data? Is there a reason why analyzing the dataset you chose is particularly interesting or important? Summarize this as if your target audience was the readership of a major news organization - boil down your findings in a way that is accessible, but still accurate.\n",
    "5. Create a public repository on your github account titled \"machine-learning-course\". In it, create a readme file that contains the heading \"ECE590: Introductory Machine Learning for Data Science\". Add, commit, and push that Jupyter notebook to the master branch. Provide the link to the that post here."
   ]
  },
  {
   "cell_type": "code",
   "execution_count": 28,
   "metadata": {},
   "outputs": [
    {
     "name": "stdout",
     "output_type": "stream",
     "text": [
      "   survived  pclass     sex   age  sibsp  parch     fare embarked  class  \\\n",
      "0         0       3    male  22.0      1      0   7.2500        S  Third   \n",
      "1         1       1  female  38.0      1      0  71.2833        C  First   \n",
      "2         1       3  female  26.0      0      0   7.9250        S  Third   \n",
      "3         1       1  female  35.0      1      0  53.1000        S  First   \n",
      "4         0       3    male  35.0      0      0   8.0500        S  Third   \n",
      "\n",
      "     who  adult_male deck  embark_town alive  alone  \n",
      "0    man        True  NaN  Southampton    no  False  \n",
      "1  woman       False    C    Cherbourg   yes  False  \n",
      "2  woman       False  NaN  Southampton   yes   True  \n",
      "3  woman       False    C  Southampton   yes  False  \n",
      "4    man        True  NaN  Southampton    no   True  \n",
      "         survived      pclass         age       sibsp       parch        fare\n",
      "count  891.000000  891.000000  714.000000  891.000000  891.000000  891.000000\n",
      "mean     0.383838    2.308642   29.699118    0.523008    0.381594   32.204208\n",
      "std      0.486592    0.836071   14.526497    1.102743    0.806057   49.693429\n",
      "min      0.000000    1.000000    0.420000    0.000000    0.000000    0.000000\n",
      "25%      0.000000    2.000000   20.125000    0.000000    0.000000    7.910400\n",
      "50%      0.000000    3.000000   28.000000    0.000000    0.000000   14.454200\n",
      "75%      1.000000    3.000000   38.000000    1.000000    0.000000   31.000000\n",
      "max      1.000000    3.000000   80.000000    8.000000    6.000000  512.329200\n"
     ]
    }
   ],
   "source": [
    "import seaborn as sns\n",
    "import matplotlib.pyplot as plt\n",
    "import numpy as np\n",
    "\n",
    "# Load dataset\n",
    "titanic = sns.load_dataset('titanic')\n",
    "print(titanic.head())\n",
    "print(titanic.describe())"
   ]
  },
  {
   "cell_type": "code",
   "execution_count": 29,
   "metadata": {},
   "outputs": [
    {
     "name": "stdout",
     "output_type": "stream",
     "text": [
      "\n",
      "Features with missing values:  ['age', 'embarked', 'deck', 'embark_town']\n",
      "\n",
      "Number of missing values:\n",
      " survived         0\n",
      "pclass           0\n",
      "sex              0\n",
      "age            177\n",
      "sibsp            0\n",
      "parch            0\n",
      "fare             0\n",
      "embarked         2\n",
      "class            0\n",
      "who              0\n",
      "adult_male       0\n",
      "deck           688\n",
      "embark_town      2\n",
      "alive            0\n",
      "alone            0\n",
      "dtype: int64\n"
     ]
    }
   ],
   "source": [
    "# Clean dataset\n",
    "# Identify features with missing values\n",
    "missing_features = titanic.columns[titanic.isnull().any()].tolist()\n",
    "print('\\nFeatures with missing values: ', missing_features) \n",
    "print('\\nNumber of missing values:\\n',titanic.isnull().sum())\n",
    "\n",
    "# Drop deck for large proportion of missing data\n",
    "titanic = titanic.drop('deck', axis = 1)\n",
    "\n",
    "# Impute mean values for age\n",
    "titanic['age'] = titanic['age'].fillna((titanic['age'].mean()))\n",
    "\n",
    "# Log transform fare (to account for right skew)\n",
    "titanic['fare'] = np.log(titanic['fare']+.0000001)\n",
    "\n",
    "# Drop remaining rows with missing values\n",
    "titanic = titanic.dropna(axis = 0)"
   ]
  },
  {
   "cell_type": "code",
   "execution_count": 32,
   "metadata": {},
   "outputs": [
    {
     "data": {
      "image/png": "[encoded data removed]",
      "text/plain": [
       "<Figure size 432x288 with 1 Axes>"
      ]
     },
     "metadata": {},
     "output_type": "display_data"
    },
    {
     "data": {
      "image/png": "[encoded data removed]",
      "text/plain": [
       "<Figure size 432x288 with 1 Axes>"
      ]
     },
     "metadata": {},
     "output_type": "display_data"
    },
    {
     "data": {
      "image/png": "[encoded data removed]",
      "text/plain": [
       "<Figure size 432x288 with 1 Axes>"
      ]
     },
     "metadata": {},
     "output_type": "display_data"
    },
    {
     "data": {
      "image/png": "[encoded data removed]",
      "text/plain": [
       "<Figure size 432x288 with 1 Axes>"
      ]
     },
     "metadata": {},
     "output_type": "display_data"
    },
    {
     "data": {
      "image/png": "[encoded data removed]",
      "text/plain": [
       "<Figure size 432x288 with 1 Axes>"
      ]
     },
     "metadata": {},
     "output_type": "display_data"
    },
    {
     "data": {
      "image/png": "[encoded data removed]",
      "text/plain": [
       "<Figure size 432x288 with 1 Axes>"
      ]
     },
     "metadata": {},
     "output_type": "display_data"
    },
    {
     "data": {
      "image/png": "[encoded data removed]",
      "text/plain": [
       "<Figure size 432x288 with 1 Axes>"
      ]
     },
     "metadata": {},
     "output_type": "display_data"
    },
    {
     "data": {
      "image/png": "[encoded data removed]",
      "text/plain": [
       "<Figure size 432x288 with 1 Axes>"
      ]
     },
     "metadata": {},
     "output_type": "display_data"
    },
    {
     "data": {
      "image/png": "[encoded data removed]",
      "text/plain": [
       "<Figure size 432x288 with 1 Axes>"
      ]
     },
     "metadata": {},
     "output_type": "display_data"
    },
    {
     "data": {
      "image/png": "[encoded data removed]",
      "text/plain": [
       "<Figure size 432x288 with 1 Axes>"
      ]
     },
     "metadata": {},
     "output_type": "display_data"
    },
    {
     "data": {
      "image/png": "[encoded data removed]",
      "text/plain": [
       "<Figure size 432x288 with 1 Axes>"
      ]
     },
     "metadata": {},
     "output_type": "display_data"
    },
    {
     "data": {
      "image/png": "[encoded data removed]",
      "text/plain": [
       "<Figure size 432x288 with 1 Axes>"
      ]
     },
     "metadata": {},
     "output_type": "display_data"
    },
    {
     "data": {
      "image/png": "[encoded data removed]",
      "text/plain": [
       "<Figure size 432x288 with 1 Axes>"
      ]
     },
     "metadata": {},
     "output_type": "display_data"
    },
    {
     "data": {
      "image/png": "[encoded data removed]",
      "text/plain": [
       "<Figure size 432x288 with 1 Axes>"
      ]
     },
     "metadata": {},
     "output_type": "display_data"
    },
    {
     "data": {
      "image/png": "[encoded data removed]",
      "text/plain": [
       "<Figure size 432x288 with 1 Axes>"
      ]
     },
     "metadata": {},
     "output_type": "display_data"
    }
   ],
   "source": [
    "sns.set(style=\"whitegrid\", palette = \"Blues_d\")\n",
    "\n",
    "sns.countplot(x = 'survived', data = titanic)\n",
    "plt.show()\n",
    "sns.countplot(x = 'pclass', data = titanic)\n",
    "plt.show()\n",
    "sns.countplot(x = 'sex', data = titanic)\n",
    "plt.show()\n",
    "\n",
    "sns.countplot(x = 'sibsp', data = titanic)\n",
    "plt.show()\n",
    "sns.countplot(x = 'parch', data = titanic)\n",
    "plt.show()\n",
    "sns.countplot(x = 'embarked', data = titanic)\n",
    "plt.show()\n",
    "sns.countplot(x = 'class', data = titanic)\n",
    "plt.show()\n",
    "sns.countplot(x = 'class', data = titanic)\n",
    "plt.show()\n",
    "sns.countplot(x = 'who', data = titanic)\n",
    "plt.show()\n",
    "sns.countplot(x = 'adult_male', data = titanic)\n",
    "plt.show()\n",
    "sns.countplot(x = 'embark_town', data = titanic)\n",
    "plt.show()\n",
    "sns.countplot(x = 'alone', data = titanic)\n",
    "plt.show()\n",
    "sns.countplot(x = 'alive', data = titanic)\n",
    "plt.show()\n",
    "\n",
    "plt.hist(titanic.loc[:,'age'])\n",
    "plt.title('Age')\n",
    "plt.show()\n",
    "plt.hist(titanic.loc[:,'fare'], bins = 50)\n",
    "plt.title('Fare')\n",
    "plt.show()\n"
   ]
  },
  {
   "cell_type": "code",
   "execution_count": null,
   "metadata": {},
   "outputs": [],
   "source": []
  }
 ],
 "metadata": {
  "kernelspec": {
   "display_name": "Python 3",
   "language": "python",
   "name": "python3"
  },
  "language_info": {
   "codemirror_mode": {
    "name": "ipython",
    "version": 3
   },
   "file_extension": ".py",
   "mimetype": "text/x-python",
   "name": "python",
   "nbconvert_exporter": "python",
   "pygments_lexer": "ipython3",
   "version": "3.6.5"
  }
 },
 "nbformat": 4,
 "nbformat_minor": 2
}
