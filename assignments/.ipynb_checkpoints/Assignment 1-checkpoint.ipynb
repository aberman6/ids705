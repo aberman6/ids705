{
 "cells": [
  {
   "cell_type": "markdown",
   "metadata": {},
   "source": [
    "# Assignment 1 - Probability, Linear Algebra, Programming, and Git\n",
    "\n",
    "## *Anna Berman*\n",
    "Netid:  *aeb100*"
   ]
  },
  {
   "cell_type": "markdown",
   "metadata": {},
   "source": [
    "# Probability and Statistics Theory"
   ]
  },
  {
   "cell_type": "markdown",
   "metadata": {
    "collapsed": true
   },
   "source": [
    "## 1\n",
    "Let $f(x) = \\begin{cases}\n",
    "                0           & x < 0  \\\\\n",
    "                \\alpha x^2  & 0 \\leq x \\leq 2 \\\\\n",
    "                0           & 2 < x\n",
    "            \\end{cases}$\n",
    "            \n",
    "For what value of $\\alpha$ is $f(x)$ a valid probability density function?\n",
    "\n",
    "*Note: for all assignments, write out all equations and math for all assignments using markdown and [LaTeX](https://tobi.oetiker.ch/lshort/lshort.pdf) and show all work*"
   ]
  },
  {
   "cell_type": "markdown",
   "metadata": {},
   "source": [
    "$$\n",
    "\\int_0^2\\alpha x^2dx = \\alpha\\int_0^2x^2dx \\\\\n",
    "= \\alpha\\Biggr|\\frac{x^3}{3}\\Biggr|_{0}^{2} \\\\\n",
    "= \\alpha(\\frac{2^3}{3} - \\frac{0^3}{3}) \\\\\n",
    "= \\alpha\\frac{8}{3} = 1 \\\\\n",
    "\\alpha = \\frac{3}{8}\n",
    "$$\n",
    "\n"
   ]
  },
  {
   "cell_type": "markdown",
   "metadata": {},
   "source": [
    "## 2\n",
    "What is the cumulative distribution function (CDF) that corresponds to the following probability distribution function? Please state the value of the CDF for all possible values of $x$.\n",
    "\n",
    "$f(x) = \\begin{cases}\n",
    "    \\frac{1}{3} & 0 < x < 3 \\\\\n",
    "    0           & \\text{otherwise}\n",
    "    \\end{cases}$"
   ]
  },
  {
   "cell_type": "markdown",
   "metadata": {},
   "source": [
    "$$f(x) = \\int_\\alpha^x \\frac{1}{b-a}dw$$\n",
    "$$ = \\int_0^x \\frac{1}{3}dw$$\n",
    "$$ = \\Biggr| \\frac{w}{3} \\Biggr|_0^x$$\n",
    "$$ = \\frac{x}{3}$$      \n",
    "            \n",
    "CDF: $f(x) = \\begin{cases}\n",
    "                0           & x < 0  \\\\\n",
    "                \\frac{x}{3}  & 0 \\leq x \\leq 3 \\\\\n",
    "                0           & 3 < x\n",
    "            \\end{cases}$\n",
    "            \n",
    "\n"
   ]
  },
  {
   "cell_type": "markdown",
   "metadata": {},
   "source": [
    "## 3\n",
    "For the probability distribution function for the random variable $X$,\n",
    "\n",
    "$f(x) = \\begin{cases}\n",
    "    \\frac{1}{3} & 0 < x < 3 \\\\\n",
    "    0           & \\text{otherwise}\n",
    "    \\end{cases}$\n",
    "    \n",
    "what is the (a) expected value and (b) variance of $X$. *Show all work*."
   ]
  },
  {
   "cell_type": "markdown",
   "metadata": {},
   "source": [
    "(a) Expected value:\n",
    "\n",
    "$$\n",
    "E(x) = \\int_{x_0}^{x_1}x \\cdot f(x)dx \\\\\\\n",
    " = \\int_0^3 x \\cdot \\frac{1}{3}dx \\\\\n",
    " = \\Biggr| \\frac{x^2}{6} \\Biggr|_0^3 \\\\\n",
    " = \\frac{9}{6} - 0 \\\\\n",
    " E(x) = \\frac{3}{2}\n",
    "$$\n",
    "\n",
    "\n",
    "(b) Variance:\n",
    "$$ Var(x) = \\int_{x_0}^{x_1}x^2 \\cdot f(x)dx - \\Biggr(\\int_{x_0}^{x_1}x \\cdot f(x)dx\\Biggr)^2$$\n",
    "$$ = \\int_0^3 \\frac{x^2}{3}dx - \\Biggr(\\frac{3}{2}\\Biggr)^2$$\n",
    "$$ = \\Biggr| \\frac{x^3}{9} \\Biggr|_0^3 - \\frac{9}{4}$$\n",
    "$$ = \\frac{27}{9} - \\frac{9}{4}$$\n",
    "$$ = \\frac{12}{4} - \\frac{9}{4}$$\n",
    "$$ Var(x) = \\frac{3}{4}$$\n"
   ]
  },
  {
   "cell_type": "markdown",
   "metadata": {},
   "source": [
    "## 4\n",
    "Consider the following table of data that provides the values of a discrete data vector $\\mathbf{x}$ of samples from the random variable $X$, where each entry in $\\mathbf{x}$ is given as $x_i$.\n",
    "\n",
    "*Table 1. Dataset N=5 observations*\n",
    "\n",
    "|        | $x_0$ | $x_1$ | $x_2$ | $x_3$ | $x_4$ |\n",
    "|------  |-------|-------|-------|-------|-------|\n",
    "|$\\textbf{x}$| 2     | 3     | 10    | -1    | -1    |\n",
    "\n",
    "What is the (a) mean, (b) variance, and the  of the data? \n",
    "\n",
    "*Show all work. Your answer should include the definition of mean, median, and variance in the context of discrete data.*"
   ]
  },
  {
   "cell_type": "markdown",
   "metadata": {},
   "source": [
    "(a) Mean\n",
    "$$ \\mu = \\frac{\\Sigma x_i}{n}$$\n",
    "$$ \\mu = \\frac{2 + 3 + 10 - 1 - 1}{5}$$\n",
    "$$ \\mu = \\frac{13}{5} = 2.6$$\n",
    "\n",
    "\n",
    "(b) Variance\n",
    "$$ \\sigma^2 = \\frac{\\Sigma(x-\\mu)^2}{n-1}$$\n",
    "$$ = \\frac{(2-\\frac{13}{5})^2 + (3-\\frac{13}{5})^2 + (10-\\frac{13}{5})^2 + (-1-\\frac{13}{5})^2 + (-1-\\frac{13}{4})^2}{5}$$\n",
    "$$ = \\frac{(-\\frac{3}{5})^2 + (\\frac{2}{5})^2 + (\\frac{37}{5})^2 + (-\\frac{18}{5})^2 + (-\\frac{18}{5})^2}{4}$$\n",
    "$$ = \\frac{\\frac{9}{25} + \\frac{4}{25} + \\frac{1369}{25} + \\frac{324}{25} + \\frac{324}{25}}{4}$$\n",
    "$$ = \\frac{\\frac{2030}{25}}{4}$$\n",
    "$$ = \\frac{2030}{100}$$\n",
    "$$ \\sigma^2 = 20.3$$"
   ]
  },
  {
   "cell_type": "markdown",
   "metadata": {},
   "source": [
    "## 5\n",
    "Review of counting from probability theory. \n",
    "\n",
    "(a) How many different 7-place license plates are possible if the first 3 places only contain letters and the last 4 only contain numbers?\n",
    "\n",
    "(b) How many different batting orders are possible for a baseball team with 9 players?\n",
    "\n",
    "(c) How many batting orders of 5 players are possible for a team with 9 players total?\n",
    "\n",
    "(d) Let's assume this class has 26 students and we want to form project teams. How many unique teams of 3 are possible?\n",
    "\n",
    "*Hint: For each problem, determine if order matters, and if it should be calculated with or without replacement.*"
   ]
  },
  {
   "cell_type": "markdown",
   "metadata": {},
   "source": [
    "(a)\n",
    "\n",
    "$$ 26 \\cdot 26 \\cdot 26 \\cdot 10 \\cdot 10 \\cdot 10 \\cdot 10 = 175,760,000 $$\n",
    "\n",
    "(b)\n",
    "\n",
    "$$ 9! = 362,880 $$\n",
    "\n",
    "(c)\n",
    "\n",
    "$$ \\frac{n!}{(n-k)!} $$\n",
    "$$ \\frac{9!}{(9-5)!} $$\n",
    "$$ \\frac{9!}{(4)!} $$\n",
    "$$ 9 \\cdot 8 \\cdot 7 \\cdot 6 \\cdot 5 = 15,120 $$\n",
    "\n",
    "(d)\n",
    "\n",
    "$$ \\frac{n!}{k!(n-k)!} $$\n",
    "$$ \\frac{26!}{3!(26-3)!} $$\n",
    "$$ \\frac{26!}{3!(26-3)!} $$\n",
    "$$ \\frac{26\\cdot25\\cdot24}{3\\cdot2} $$\n",
    "$$ 2,600 $$"
   ]
  },
  {
   "cell_type": "markdown",
   "metadata": {},
   "source": [
    "# Linear Algebra"
   ]
  },
  {
   "cell_type": "markdown",
   "metadata": {},
   "source": [
    "## 6\n",
    "**Matrix manipulations and multiplication**. Machine learning involves working with many matrices, so this exercise will provide you with the opportunity to practice those skills.\n",
    "\n",
    "Let\n",
    "$\\mathbf{A} =  \\begin{bmatrix}\n",
    "1 & 2 & 3 \\\\\n",
    "2 & 4 & 5 \\\\\n",
    "3 & 5 & 6 \n",
    "\\end{bmatrix}$, $\\mathbf{b} =  \\begin{bmatrix}\n",
    "-1  \\\\\n",
    "3  \\\\\n",
    "8  \n",
    "\\end{bmatrix}$, $\\mathbf{c} =  \\begin{bmatrix}\n",
    "4  \\\\\n",
    "-3  \\\\\n",
    "6  \n",
    "\\end{bmatrix}$, and $\\mathbf{I} =  \\begin{bmatrix}\n",
    "1 & 0 & 0 \\\\\n",
    "0 & 1 & 0 \\\\\n",
    "0 & 0 & 1 \n",
    "\\end{bmatrix}$\n",
    "\n",
    "Compute the following or indicate that it cannot be computed:\n",
    "\n",
    "1. $\\mathbf{A}\\mathbf{A}$\n",
    "2. $\\mathbf{A}\\mathbf{A}^T$\n",
    "3. $\\mathbf{A}\\mathbf{b}$\n",
    "4. $\\mathbf{A}\\mathbf{b}^T$\n",
    "5. $\\mathbf{b}\\mathbf{A}$ \n",
    "6. $\\mathbf{b}^T\\mathbf{A}$\n",
    "7. $\\mathbf{b}\\mathbf{b}$\n",
    "8. $\\mathbf{b}^T\\mathbf{b}$\n",
    "9. $\\mathbf{b}\\mathbf{b}^T$\n",
    "10. $\\mathbf{b} + \\mathbf{c}^T$\n",
    "11. $\\mathbf{b}^T\\mathbf{b}^T$\n",
    "12. $\\mathbf{A}^{-1}\\mathbf{b}$\n",
    "13. $\\mathbf{A}\\circ\\mathbf{A}$\n",
    "14. $\\mathbf{b}\\circ\\mathbf{c}$\n",
    "\n",
    "*Note: The element-wise (or Hadamard) product is the product of each element in one matrix with the corresponding element in another matrix, and is represented by the symbol \"$\\circ$\".*"
   ]
  },
  {
   "cell_type": "markdown",
   "metadata": {},
   "source": [
    "1. $\\mathbf{A}\\mathbf{A}$\n",
    "\n",
    "$$\\begin{bmatrix}\n",
    "1 & 2 & 3 \\\\\n",
    "2 & 4 & 5 \\\\\n",
    "3 & 5 & 6 \n",
    "\\end{bmatrix}\n",
    "\\begin{bmatrix}\n",
    "1 & 2 & 3 \\\\\n",
    "2 & 4 & 5 \\\\\n",
    "3 & 5 & 6 \n",
    "\\end{bmatrix}$$\n",
    "\n",
    "$$\\begin{bmatrix}\n",
    "1+4+9 & 2+8+15 & 3+10+18 \\\\\n",
    "2+8+15 & 4+16+25 & 6+20+30 \\\\\n",
    "3+10+18 & 6+20+30 & 9+25+36\n",
    "\\end{bmatrix}$$\n",
    "\n",
    "$$\\begin{bmatrix}\n",
    "14 & 25 & 31 \\\\\n",
    "25 & 45 & 56 \\\\\n",
    "31 & 56 & 70 \n",
    "\\end{bmatrix}$$\n",
    "\n",
    "\n",
    "2. $\\mathbf{A}\\mathbf{A}^T$\n",
    "\n",
    "$$\\mathbf{A}\\mathbf{A}^T = \\mathbf{A}\\mathbf{A} = \\begin{bmatrix}\n",
    "14 & 25 & 31 \\\\\n",
    "25 & 45 & 56 \\\\\n",
    "31 & 56 & 70 \n",
    "\\end{bmatrix}$$\n",
    "\n",
    "3. $\\mathbf{A}\\mathbf{b}$\n",
    "\n",
    "$$\\begin{bmatrix}\n",
    "1 & 2 & 3 \\\\\n",
    "2 & 4 & 5 \\\\\n",
    "3 & 5 & 6 \n",
    "\\end{bmatrix}\n",
    "\\begin{bmatrix}\n",
    "-1  \\\\\n",
    "3  \\\\\n",
    "8  \n",
    "\\end{bmatrix}$$\n",
    "\n",
    "$$\n",
    "\\begin{bmatrix}\n",
    "-1+6+24 \\\\\n",
    "-2+12+40 \\\\\n",
    "-1+15+48\n",
    "\\end{bmatrix}$$\n",
    "\n",
    "$$\n",
    "\\begin{bmatrix}\n",
    "29 \\\\\n",
    "50 \\\\\n",
    "60\n",
    "\\end{bmatrix}$$\n",
    "\n",
    "4. $\\mathbf{A}\\mathbf{b}^T$\n",
    "Cannot be commuted\n",
    "\n",
    "5. $\\mathbf{b}\\mathbf{A}$ \n",
    "Cannot be commuted\n",
    "\n",
    "6. $\\mathbf{b}^T\\mathbf{A}$\n",
    "$$\\begin{bmatrix}\n",
    "-1 & 3 & 8\n",
    "\\end{bmatrix}\n",
    "\\begin{bmatrix}\n",
    "1 & 2 & 3 \\\\\n",
    "2 & 4 & 5 \\\\\n",
    "3 & 5 & 6 \n",
    "\\end{bmatrix}$$\n",
    "\n",
    "$$\n",
    "\\begin{bmatrix}\n",
    "-1+6+24 & -2+12+40 & -1+15+48\n",
    "\\end{bmatrix}$$\n",
    "\n",
    "$$\n",
    "\\begin{bmatrix}\n",
    "29 & 50 & 60\n",
    "\\end{bmatrix}$$\n",
    "\n",
    "7. $\\mathbf{b}\\mathbf{b}$\n",
    "Cannot be commuted\n",
    "\n",
    "8. $\\mathbf{b}^T\\mathbf{b}$\n",
    "$$\\begin{bmatrix}\n",
    "-1 & 3 & 8\n",
    "\\end{bmatrix}\n",
    "\\begin{bmatrix}\n",
    "-1  \\\\\n",
    "3  \\\\\n",
    "8  \n",
    "\\end{bmatrix}$$\n",
    "\n",
    "$$\\begin{bmatrix}\n",
    "1 + 9 + 64\n",
    "\\end{bmatrix}$$\n",
    "\n",
    "$$\\begin{bmatrix}\n",
    "74\n",
    "\\end{bmatrix}$$\n",
    "\n",
    "\n",
    "\n",
    "\n",
    "9. $\\mathbf{b}^T\\mathbf{b}$\n",
    "$$\\begin{bmatrix}\n",
    "-1  \\\\\n",
    "3  \\\\\n",
    "8  \n",
    "\\end{bmatrix}\\begin{bmatrix}\n",
    "-1 & 3 & 8\n",
    "\\end{bmatrix}\n",
    "$$\n",
    "$$\\begin{bmatrix}\n",
    "1 & -3 & -8 \\\\\n",
    "-3 & 9 & 24 \\\\\n",
    "-8 & 24 & 64\n",
    "\\end{bmatrix}$$\n",
    "\n",
    "10. $\\mathbf{b} + \\mathbf{c}^T$\n",
    "Cannot be commuted\n",
    "\n",
    "11. $\\mathbf{b}^T\\mathbf{b}^T$\n",
    "Cannot be commuted\n",
    "\n",
    "12. $\\mathbf{A}^{-1}\\mathbf{b}$\n",
    "$$\\mathbf{A}^{-1}\n",
    "\\rightarrow\n",
    "\\begin{bmatrix}\n",
    "1 & 2 & 3 & 1 & 0 & 0 \\\\\n",
    "2 & 4 & 5 & 0 & 1 & 0 \\\\\n",
    "3 & 5 & 6 & 0 & 0 & 1\n",
    "\\end{bmatrix} \n",
    "\\rightarrow\n",
    "\\begin{bmatrix}\n",
    "1 & 2 & 3 & 1 & 0 & 0 \\\\\n",
    "0 & 0 & -1 & -2 & 1 & 0 \\\\\n",
    "0 & -1 & -3 & -3 & 0 & 1\n",
    "\\end{bmatrix} \n",
    "\\rightarrow\n",
    "\\begin{bmatrix}\n",
    "1 & 2 & 3 & 1 & 0 & 0 \\\\\n",
    "0 & 1 & 3 & 3 & 0 & -1 \\\\\n",
    "0 & 0 & 1 & 2 & -1 & 0\n",
    "\\end{bmatrix}\n",
    "\\rightarrow\n",
    "\\begin{bmatrix}\n",
    "1 & 2 & 0 & -5 & 3 & 0 \\\\\n",
    "0 & 1 & 0 & -3 & 3 & -1 \\\\\n",
    "0 & 0 & 1 & 2 & -1 & 0\n",
    "\\end{bmatrix}\n",
    "\\rightarrow\n",
    "\\begin{bmatrix}\n",
    "1 & 0 & 0 & 1 & -3 & 2 \\\\\n",
    "0 & 1 & 0 & -3 & 3 & -1 \\\\\n",
    "0 & 0 & 1 & 2 & -1 & 0\n",
    "\\end{bmatrix}\n",
    "$$\n",
    "\n",
    "$$\\mathbf{A}^{-1}\\mathbf{b} = \\begin{bmatrix}\n",
    "1 & -3 & 2 \\\\\n",
    "-3 & 3 & -1 \\\\\n",
    "2 & -1 & 0\n",
    "\\end{bmatrix}\n",
    " \\begin{bmatrix}\n",
    "-1  \\\\\n",
    "3  \\\\\n",
    "8  \n",
    "\\end{bmatrix}$$\n",
    "\n",
    "$$\\begin{bmatrix}\n",
    "-1-9+16 \\\\\n",
    "3+9-8 \\\\\n",
    "-2-3+0 \n",
    "\\end{bmatrix}$$\n",
    "\n",
    "$$\\begin{bmatrix}\n",
    "6 \\\\\n",
    "4 \\\\\n",
    "-5\n",
    "\\end{bmatrix}$$\n",
    "\n",
    "\n",
    "13. $\\mathbf{A}\\circ\\mathbf{A}$\n",
    "$$\\begin{bmatrix}\n",
    "1 & 2 & 3 \\\\\n",
    "2 & 4 & 5 \\\\\n",
    "3 & 5 & 6 \n",
    "\\end{bmatrix}\n",
    "\\circ\n",
    "\\begin{bmatrix}\n",
    "1 & 2 & 3 \\\\\n",
    "2 & 4 & 5 \\\\\n",
    "3 & 5 & 6 \n",
    "\\end{bmatrix}$$\n",
    "$$\\begin{bmatrix}\n",
    "1 & 4 & 9 \\\\\n",
    "4 & 16 & 25 \\\\\n",
    "9 & 25 & 36 \n",
    "\\end{bmatrix}$$\n",
    "\n",
    "14. $\\mathbf{b}\\circ\\mathbf{c}$\n",
    "$$\\begin{bmatrix}\n",
    "-1  \\\\\n",
    "3  \\\\\n",
    "8  \n",
    "\\end{bmatrix}\n",
    "\\circ\n",
    "\\begin{bmatrix}\n",
    "4  \\\\\n",
    "-3  \\\\\n",
    "6  \n",
    "\\end{bmatrix}$$\n",
    "$$\\begin{bmatrix}\n",
    "-4  \\\\\n",
    "-9  \\\\\n",
    "48  \n",
    "\\end{bmatrix}$$\n",
    "\n",
    "\n"
   ]
  },
  {
   "cell_type": "code",
   "execution_count": 34,
   "metadata": {},
   "outputs": [
    {
     "name": "stdout",
     "output_type": "stream",
     "text": [
      "1 : [[14 25 31]\n",
      " [25 45 56]\n",
      " [31 56 70]]\n",
      "2 : [[14 25 31]\n",
      " [25 45 56]\n",
      " [31 56 70]]\n",
      "3 : [[29]\n",
      " [50]\n",
      " [60]]\n",
      "4 : Cannot be commuted\n",
      "5 : Cannot be commuted\n",
      "6 : [[29 50 60]]\n",
      "7 : Cannot be commuted\n",
      "8 : [[74]]\n",
      "9 : [[ 1 -3 -8]\n",
      " [-3  9 24]\n",
      " [-8 24 64]]\n",
      "10 : Cannot be communted\n",
      "11 : Cannot be communted\n",
      "12 : [[ 6.]\n",
      " [ 4.]\n",
      " [-5.]]\n",
      "13:  [[ 1  4  9]\n",
      " [ 4 16 25]\n",
      " [ 9 25 36]]\n",
      "13:  [[-4]\n",
      " [-9]\n",
      " [48]]\n"
     ]
    }
   ],
   "source": [
    "import numpy as np\n",
    "\n",
    "A = np.matrix('1,2,3; 2,4,5; 3,5,6')\n",
    "b = np.matrix('-1; 3; 8')\n",
    "c = np.matrix('4; -3; 6')\n",
    "I = np.matrix('1,0,0; 0,1,0; 0,0,1')\n",
    "\n",
    "# 1 AA\n",
    "print('1 :', np.matmul(A,A))\n",
    "\n",
    "# 2 AA^T\n",
    "print('2 :', np.matmul(A,A.transpose()))\n",
    "\n",
    "# 3 Ab\n",
    "print('3 :', np.matmul(A,b))\n",
    "\n",
    "# 4 Ab^T\n",
    "print('4 : Cannot be commuted')\n",
    "\n",
    "# 5 bA\n",
    "print('5 : Cannot be commuted')\n",
    "\n",
    "# 6 b^TA\n",
    "print('6 :', np.matmul(b.transpose(),A))\n",
    "\n",
    "# 7 bb\n",
    "print('7 : Cannot be commuted')\n",
    "\n",
    "# 8 b^Tb\n",
    "print('8 :', np.matmul(b.transpose(), b))\n",
    "\n",
    "# 9 bb^T\n",
    "print('9 :', np.matmul(b, b.transpose()))\n",
    "\n",
    "# 10 b + c^T\n",
    "print('10 : Cannot be communted')\n",
    "\n",
    "# 11 b^Tb^T\n",
    "print('11 : Cannot be communted')\n",
    "\n",
    "# 12 A^1b\n",
    "print('12 :', np.matmul(A.I, b))\n",
    "\n",
    "# 13 A*A\n",
    "print('13: ', np.array(A)*np.array(A))\n",
    "\n",
    "# 13 b*c\n",
    "print('13: ', np.array(b)*np.array(c))\n",
    "\n"
   ]
  },
  {
   "cell_type": "markdown",
   "metadata": {},
   "source": [
    "## 6\n",
    "**Eigenvectors and eigenvalues**. Eigenvectors and eigenvalues are useful for some machine learning algorithms, but the concepts take time to solidly grasp. For an intuitive review of these concepts, explore this [interactive website at Setosa.io](http://setosa.io/ev/eigenvectors-and-eigenvalues/). Also, the series of linear algebra videos by Grant Sanderson of 3Brown1Blue are excellent and can be viewed on youtube [here](https://www.youtube.com/playlist?list=PLZHQObOWTQDPD3MizzM2xVFitgF8hE_ab).\n",
    "\n",
    "1. Calculate the eigenvalues and corresponding eigenvectors of matrix $\\mathbf{A}$ above, from the last question.\n",
    "2. Choose one of the eigenvector/eigenvalue pairs, $\\mathbf{v}$ and $\\lambda$, and show that $\\mathbf{A} \\mathbf{v} = \\lambda \\mathbf{v}$. Also show that this relationship extends to higher orders: $\\mathbf{A} \\mathbf{A} \\mathbf{v} = \\lambda^2 \\mathbf{v}$\n",
    "3. Show that the eigenvectors are orthogonal to one another (e.g. their inner product is zero). This is true for real, symmetric matrices."
   ]
  },
  {
   "cell_type": "code",
   "execution_count": 103,
   "metadata": {},
   "outputs": [
    {
     "name": "stdout",
     "output_type": "stream",
     "text": [
      "Av = λv : \n",
      " [ True  True  True] \n",
      "\n",
      "AAv = λ^2v : \n",
      " [ True  True  True] \n",
      "\n",
      "Inner product of v1 and v2:  -0.0\n",
      "Inner product of v2 and v3:  -0.0\n",
      "Inner product of v1 and v3:  -0.0\n"
     ]
    }
   ],
   "source": [
    "import numpy as np\n",
    "\n",
    "# Define A\n",
    "#A = np.matrix('1,2,3; 2,4,5; 3,5,6')\n",
    "A = np.array([[1,2,3], [2,4,5], [3,5,6]])\n",
    "\n",
    "# Find the eigenvalues and corresponding eigenvectors\n",
    "eigVals, eigVecs = np.linalg.eig(A)\n",
    "\n",
    "# Select first eigenpair\n",
    "lamd = eigVals[0]\n",
    "v = eigVecs[:,0]\n",
    "\n",
    "# Show that Av = λv\n",
    "side1 = np.matmul(A,v)\n",
    "side2 = lamd*v\n",
    "print('Av = λv : \\n', np.round(side1,10)==np.round(side2,10), '\\n')\n",
    "\n",
    "# Show that AAv = λ^2v\n",
    "side1 = np.matmul(A,np.matmul(A,v))\n",
    "side2 = lamd**2*v\n",
    "print('AAv = λ^2v : \\n', np.round(side1,10)==np.round(side2,10), '\\n')\n",
    "\n",
    "# Show that eigenvectors are orthogonal\n",
    "v1 = eigVecs[:,0]\n",
    "v2 = eigVecs[:,1]\n",
    "v3 = eigVecs[:,2]\n",
    "print('Inner product of v1 and v2: ', np.round(v1.dot(v2),10))\n",
    "print('Inner product of v2 and v3: ', np.round(v2.dot(v3),10))\n",
    "print('Inner product of v1 and v3: ', np.round(v1.dot(v3),10))\n"
   ]
  },
  {
   "cell_type": "markdown",
   "metadata": {},
   "source": [
    "# Numerical Programming"
   ]
  },
  {
   "cell_type": "markdown",
   "metadata": {},
   "source": [
    "## 7\n",
    "Speed comparison between vectorized and non-vectorized code. Begin by creating an array of 10 million random numbers using the numpy random.randn module. Compute the sum of the squares first in a for loop, then using Numpy's `dot` module. Time how long it takes to compute each and report the results and report the output. How many times faster is the vectorized code than the for loop approach?\n",
    "\n",
    "*Note: all code should be well commented, properly formatted, and your answers should be output using the `print()` function as follows (where the # represents your answers, to a reasonable precision):\n",
    "\n",
    "`Time [sec] (non-vectorized): ######`\n",
    "\n",
    "`Time [sec] (vectorized):     ######`\n",
    "\n",
    "`The vectorized code is ##### times faster than the vectorized code`"
   ]
  },
  {
   "cell_type": "markdown",
   "metadata": {},
   "source": []
  },
  {
   "cell_type": "code",
   "execution_count": 59,
   "metadata": {},
   "outputs": [
    {
     "name": "stdout",
     "output_type": "stream",
     "text": [
      "Time [sec] (non-vectorized):  56.98\n",
      "Time [sec] (vectorized):  0.05\n",
      "The vectorized code is,  1169.49 times faster than the vectorized code\n"
     ]
    }
   ],
   "source": [
    "import numpy as np\n",
    "import time\n",
    "\n",
    "# Generate the random samples\n",
    "n = 100000000\n",
    "r = np.random.randn(n)\n",
    "\n",
    "\n",
    "\n",
    "# Compute the sum of squares the non-vectorized way (using a for loop)\n",
    "# Start time\n",
    "start_time = time.time()\n",
    "\n",
    "# Calcuate the mean of the observations\n",
    "mu = np.mean(r)\n",
    "\n",
    "# Find sum of squares\n",
    "summ = 0\n",
    "for i in r:\n",
    "    summ = summ + (i-mu)**2\n",
    "    pass\n",
    "\n",
    "# End the time counter and calcuate total time\n",
    "end_time = time.time()\n",
    "time_nonvec = end_time-start_time\n",
    "\n",
    "\n",
    "\n",
    "# Compute the sum of squares the vectorized way (using numpy)\n",
    "start_time = time.time()\n",
    "summ_vec = np.dot(r,r)\n",
    "end_time = time.time()\n",
    "time_vec = end_time-start_time\n",
    "\n",
    "\n",
    "# Print the results\n",
    "print(\"Time [sec] (non-vectorized): \", round(time_nonvec,2))\n",
    "print(\"Time [sec] (vectorized): \", round(time_vec,2))\n",
    "print(\"The vectorized code is, \", round(time_nonvec/time_vec,2), \"times faster than the vectorized code\")"
   ]
  },
  {
   "cell_type": "markdown",
   "metadata": {},
   "source": [
    "## 8\n",
    "One popular Agile development framework is Scrum (a paradigm recommended for data science projects). It emphasizes the continual evolution of code for projects, becoming progressively better, but starting with a quickly developed minimum viable product. This often means that code written early on is not optimized, and that's a good thing - it's best to get it to work first before optimizing. Imagine that you wrote the following code during a sprint towards getting an end-to-end system working. Vectorize the following code and show the difference in speed between the current implementation and a vectorized version.\n",
    "\n",
    "The function below computes the function $f(x,y) = x^2 - 2 y^2$ and determines whether this quantity is above or below a given threshold, `thresh=0`. This is done for $x,y \\in \\{-4,4\\}$, over a 2,000-by-2,000 grid covering that domain.\n",
    "\n",
    "(a) Vectorize this code and demonstrate (as in the last exercise) the speed increase through vectorization and (b) plot the resulting data - both the function $f(x,y)$ and the thresholded output - using [`imshow`](https://matplotlib.org/api/_as_gen/matplotlib.pyplot.imshow.html?highlight=matplotlib%20pyplot%20imshow#matplotlib.pyplot.imshow) from `matplotlib`.\n",
    "\n",
    "*Hint: look at the `numpy` [`meshgrid`](https://docs.scipy.org/doc/numpy-1.13.0/reference/generated/numpy.meshgrid.html) documentation*"
   ]
  },
  {
   "cell_type": "code",
   "execution_count": 148,
   "metadata": {
    "scrolled": true
   },
   "outputs": [
    {
     "name": "stdout",
     "output_type": "stream",
     "text": [
      "Time [sec] (non-vectorized):  7.47\n",
      "Time [sec] (vectorized):  0.05\n",
      "The vectorized code is,  143.3 times faster than the vectorized code\n"
     ]
    },
    {
     "data": {
      "image/png": "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\n",
      "text/plain": [
       "<Figure size 432x288 with 1 Axes>"
      ]
     },
     "metadata": {},
     "output_type": "display_data"
    },
    {
     "data": {
      "image/png": "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\n",
      "text/plain": [
       "<Figure size 432x288 with 1 Axes>"
      ]
     },
     "metadata": {},
     "output_type": "display_data"
    }
   ],
   "source": [
    "import numpy as np\n",
    "import time\n",
    "import matplotlib.pyplot as plt\n",
    "\n",
    "# Initialize variables for this exerise\n",
    "# Initialize scale and threshold\n",
    "x = np.linspace(-4,4, num = 2000)\n",
    "y = np.linspace(-4,4, num = 2000)\n",
    "thresh = 0\n",
    "\n",
    "\n",
    "# Nonvectorized implementation\n",
    "start_time = time.time()\n",
    "\n",
    "# Set up grid\n",
    "X,Y = np.meshgrid(x,y)\n",
    "nonVec = np.zeros((2000,2000))\n",
    "\n",
    "# Define function\n",
    "def f(x, y):\n",
    "    func = x**2 - 2*y**2\n",
    "    if func > thresh:\n",
    "        return 1\n",
    "    else:\n",
    "        return 0\n",
    "    pass\n",
    "\n",
    "#Iterate over non-vectorized grid\n",
    "for i in range(2000):\n",
    "    for j in range(2000):\n",
    "        nonVec[i,j] = f(X[i,j],Y[i,j])\n",
    "        pass\n",
    "    pass\n",
    "end_time = time.time()\n",
    "time_nonvec = end_time-start_time\n",
    "\n",
    "\n",
    "# Vectorized implementation\n",
    "start_time = time.time()\n",
    "X, Y = np.meshgrid(x, y)\n",
    "vec = X**2 - 2*Y**2\n",
    "vec = vec > thresh\n",
    "end_time = time.time()\n",
    "time_vec = end_time-start_time\n",
    "\n",
    "\n",
    "\n",
    "# Print the time for each and the speed increase\n",
    "print(\"Time [sec] (non-vectorized): \", round(time_nonvec,2))\n",
    "print(\"Time [sec] (vectorized): \", round(time_vec,2))\n",
    "print(\"The vectorized code is, \", round(time_nonvec/time_vec,2), \"times faster than the vectorized code\")\n",
    "\n",
    "\n",
    "# Plot the result\n",
    "plt.imshow(nonVec)\n",
    "plt.title('Nonvectorized implementation')\n",
    "plt.show()\n",
    "plt.imshow(vec)\n",
    "plt.title('Vectorized implementation')\n",
    "plt.show()\n"
   ]
  },
  {
   "cell_type": "markdown",
   "metadata": {},
   "source": [
    "## 9\n",
    "This exercise will walk through some basic numerical programming exercises.\n",
    "1. Synthesize $n=10^4$ normally distributed data points with mean $\\mu=2$ and a standard deviation of $\\sigma=1$. Call these observations from a random variable $X$, and call the vector of observations that you generate, $\\textbf{x}$.\n",
    "2. Calculate the mean and standard deviation of $\\textbf{x}$ to validate (1) and provide the result to a precision of four significant figures.\n",
    "3. Plot a histogram of the data in $\\textbf{x}$ with 30 bins\n",
    "4. What is the 90th percentile of $\\textbf{x}$? The 90th percentile is the value below which 90% of observations can be found.\n",
    "5. What is the 99th percentile of $\\textbf{x}$?\n",
    "6. Now synthesize $n=10^4$ normally distributed data points with mean $\\mu=0$ and a standard deviation of $\\sigma=3$. Call these observations from a random variable $Y$, and call the vector of observations that you generate, $\\textbf{y}$.\n",
    "7. Plot the histogram of the data in $\\textbf{y}$ on a (new) plot with the histogram of $\\textbf{x}$, so that both histograms can be seen and compared.\n",
    "8. Using the observations from $\\textbf{x}$ and $\\textbf{y}$, estimate $E[XY]$"
   ]
  },
  {
   "cell_type": "markdown",
   "metadata": {},
   "source": [
    "**ANSWER**"
   ]
  },
  {
   "cell_type": "code",
   "execution_count": 119,
   "metadata": {},
   "outputs": [
    {
     "name": "stdout",
     "output_type": "stream",
     "text": [
      "Observed x mean:  1.989\n",
      "Observed x standard deviation:  0.9862\n"
     ]
    },
    {
     "data": {
      "image/png": "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\n",
      "text/plain": [
       "<Figure size 432x288 with 1 Axes>"
      ]
     },
     "metadata": {},
     "output_type": "display_data"
    },
    {
     "name": "stdout",
     "output_type": "stream",
     "text": [
      "x 90th percentile:  3.275\n",
      "x 99th percentile:  4.277\n"
     ]
    },
    {
     "data": {
      "image/png": "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\n",
      "text/plain": [
       "<Figure size 432x288 with 1 Axes>"
      ]
     },
     "metadata": {},
     "output_type": "display_data"
    },
    {
     "name": "stdout",
     "output_type": "stream",
     "text": [
      "E(XY) = E(X) + E(Y) =  1.989  +  0.03534  =  2.024\n"
     ]
    }
   ],
   "source": [
    "import numpy as np\n",
    "import matplotlib.pyplot as plt\n",
    "\n",
    "# 1\n",
    "# Generate normally distributed data points with mean μ=2 and a standard deviation of σ=1\n",
    "mu, sd = 2, 1 # mean and standard deviation\n",
    "x = np.random.normal(mu, sd, 10000)\n",
    "\n",
    "# 2\n",
    "# Calculate the mean and standard deviation and provide the result to a precision of four significant figures\n",
    "print('Observed x mean: ', '%s' % float('%.4g' % np.mean(x)))\n",
    "print('Observed x standard deviation: ', '%s' % float('%.4g' % np.std(x)))\n",
    "\n",
    "# 3\n",
    "# Plot histogram\n",
    "plt.hist(x, 30, label = 'x: N(2,1)')\n",
    "plt.legend(loc='upper right')\n",
    "plt.show()\n",
    "\n",
    "# 4\n",
    "# What is the 90th percentile of  x ?\n",
    "print('x 90th percentile: ', '%s' % float('%.4g' % np.percentile(x, 90)))\n",
    "\n",
    "# 5\n",
    "# What is the 90th percentile of  x ?\n",
    "print('x 99th percentile: ', '%s' % float('%.4g' % np.percentile(x, 99)))\n",
    "\n",
    "# 6\n",
    "# Generate normally distributed data points with mean μ=2 and a standard deviation of σ=1\n",
    "mu, sd = 0, 3 # mean and standard deviation\n",
    "y = np.random.normal(mu, sd, 10000)\n",
    "\n",
    "# 7\n",
    "# Plot the histogram of the data in y on a (new) plot with the histogram of x\n",
    "plt.hist(x, 30, alpha = .5, label = 'x: N(2,1)')\n",
    "plt.hist(y, 30, alpha = .5, label = 'y: N(0,3)')\n",
    "plt.legend(loc='upper right')\n",
    "plt.show()\n",
    "\n",
    "# 8\n",
    "print('E(XY) = E(X) + E(Y) = ', \n",
    "      '%s' % float('%.4g' % np.mean(x)), ' + ', '%s' % float('%.4g' % np.mean(y)), \n",
    "      ' = ', '%s' % float('%.4g' % (np.mean(x) + np.mean(y))))\n"
   ]
  },
  {
   "cell_type": "markdown",
   "metadata": {},
   "source": [
    "## 10\n",
    "Estimate the integral of the function $f(x)$ on the interval $0\\leq x < 2.5$ assuming we only know the following points from $f$:\n",
    "\n",
    "*Table 1. Dataset containing n=5 observations*\n",
    "\n",
    "| $x_i$ | 0.0 | 0.5 | 1.0 | 1.5 | 2.0 |\n",
    "|-|-|-|-|-|-|\n",
    "| $y_i$ | 6 | 7 | 8 | 4 | 1 |\n"
   ]
  },
  {
   "cell_type": "code",
   "execution_count": 142,
   "metadata": {},
   "outputs": [
    {
     "name": "stdout",
     "output_type": "stream",
     "text": [
      "Estimated integral =  11.25\n"
     ]
    }
   ],
   "source": [
    "import numpy as np\n",
    "\n",
    "#Initialize variables\n",
    "t = .5 # step\n",
    "x = np.arange(0,2.5,t)\n",
    "y = np.array((6,7,8,4,1))\n",
    "\n",
    "# Calculate right hand sum and left hand sum\n",
    "rhs = 0\n",
    "for i in range(1,len(y)):\n",
    "    rhs = rhs + y[i]*t\n",
    "    #print(y[i]*t)\n",
    "    pass\n",
    "\n",
    "lhs = 0\n",
    "for i in range(0,len(y)-1):\n",
    "    lhs = lhs + y[i]*t\n",
    "    #print(y[i]*t)\n",
    "    pass\n",
    "\n",
    "# Average right and left hand sum to estimate integral\n",
    "estimate = (rhs + lhs)/2\n",
    "print('Estimated integral = ', estimate)\n",
    "\n"
   ]
  },
  {
   "cell_type": "markdown",
   "metadata": {
    "collapsed": true
   },
   "source": [
    "# Version Control via Git"
   ]
  },
  {
   "cell_type": "markdown",
   "metadata": {},
   "source": [
    "## 11\n",
    "Complete the [Atlassian Git tutorial](https://www.atlassian.com/git/tutorials/what-is-version-control), specifically the following sections. Try each concept that's presented. For this tutorial, instead of using BitBucket, use Github. Create a github account here if you don't already have one: https://github.com/\n",
    "1. [What is version control](https://www.atlassian.com/git/tutorials/what-is-version-control)\n",
    "2. [What is Git](https://www.atlassian.com/git/tutorials/what-is-git)\n",
    "3. [Install Git](https://www.atlassian.com/git/tutorials/install-git)\n",
    "4. [Setting up a repository](https://www.atlassian.com/git/tutorials/install-git)\n",
    "5. [Saving changes](https://www.atlassian.com/git/tutorials/saving-changes)\n",
    "6. [Inspecting a repository](https://www.atlassian.com/git/tutorials/inspecting-a-repository)\n",
    "7. [Undoing changes](https://www.atlassian.com/git/tutorials/undoing-changes)\n",
    "8. [Rewriting history](https://www.atlassian.com/git/tutorials/rewriting-history)\n",
    "9. [Syncing](https://www.atlassian.com/git/tutorials/syncing)\n",
    "10. [Making a pull request](https://www.atlassian.com/git/tutorials/making-a-pull-request)\n",
    "11. [Using branches](https://www.atlassian.com/git/tutorials/using-branches)\n",
    "12. [Comparing workflows](https://www.atlassian.com/git/tutorials/comparing-workflows)\n",
    "\n",
    "For your answer, affirm that you either completed the tutorial or have previous experience with all of the concepts above. Do this by typing your name below and selecting the situation that applies from the two options in brackets."
   ]
  },
  {
   "cell_type": "markdown",
   "metadata": {},
   "source": [
    "**I, Anna Berman, affirm that I have completed the above tutorial.**"
   ]
  },
  {
   "cell_type": "markdown",
   "metadata": {},
   "source": [
    "## 12\n",
    "Using Github to create a static HTML website:\n",
    "1. Create a branch in your `machine-learning-course` repo called \"gh-pages\" and checkout that branch (this will provide an example of how to create a simple static website using [Github Pages](https://pages.github.com/))\n",
    "2. Create a file called \"index.html\" with the contents \"Hello World\" and add, commit, and push it to that branch.\n",
    "3. Submit the following: (a) a link to your github repository and (b) a link to your new \"Hello World\" website. The latter should be at the address https://[USERNAME].github.io/ECE590-assignment0 (where [USERNAME] is your github username)."
   ]
  },
  {
   "cell_type": "markdown",
   "metadata": {},
   "source": [
    "**ANSWER**\n",
    "\n"
   ]
  },
  {
   "cell_type": "markdown",
   "metadata": {
    "collapsed": true
   },
   "source": [
    "# Exploratory Data Analysis\n",
    "## 13\n",
    "Here you'll bring together some of the individual skills that you demonstrated above and create a Jupyter notebook based blog post on data analysis.\n",
    "\n",
    "1. Find a dataset that interests you and relates to a question or problem that you find intriguing\n",
    "2. Using a Jupyter notebook, describe the dataset, the source of the data, and the reason the dataset was of interest.\n",
    "3. Check the data and see if they need to be cleaned: are there missing values? Are there clearly erroneous values? Do two tables need to be merged together? Clean the data so it can be visualized.\n",
    "3. Plot the data, demonstrating interesting features that you discover. Are there any relationships between variables that were surprising or patterns that emerged? Please exercise creativity and curiosity in your plots.\n",
    "4. What insights are you able to take away from exploring the data? Is there a reason why analyzing the dataset you chose is particularly interesting or important? Summarize this as if your target audience was the readership of a major news organization - boil down your findings in a way that is accessible, but still accurate.\n",
    "5. Create a public repository on your github account titled \"machine-learning-course\". In it, create a readme file that contains the heading \"ECE590: Introductory Machine Learning for Data Science\". Add, commit, and push that Jupyter notebook to the master branch. Provide the link to the that post here."
   ]
  },
  {
   "cell_type": "code",
   "execution_count": 28,
   "metadata": {},
   "outputs": [
    {
     "name": "stdout",
     "output_type": "stream",
     "text": [
      "   survived  pclass     sex   age  sibsp  parch     fare embarked  class  \\\n",
      "0         0       3    male  22.0      1      0   7.2500        S  Third   \n",
      "1         1       1  female  38.0      1      0  71.2833        C  First   \n",
      "2         1       3  female  26.0      0      0   7.9250        S  Third   \n",
      "3         1       1  female  35.0      1      0  53.1000        S  First   \n",
      "4         0       3    male  35.0      0      0   8.0500        S  Third   \n",
      "\n",
      "     who  adult_male deck  embark_town alive  alone  \n",
      "0    man        True  NaN  Southampton    no  False  \n",
      "1  woman       False    C    Cherbourg   yes  False  \n",
      "2  woman       False  NaN  Southampton   yes   True  \n",
      "3  woman       False    C  Southampton   yes  False  \n",
      "4    man        True  NaN  Southampton    no   True  \n",
      "         survived      pclass         age       sibsp       parch        fare\n",
      "count  891.000000  891.000000  714.000000  891.000000  891.000000  891.000000\n",
      "mean     0.383838    2.308642   29.699118    0.523008    0.381594   32.204208\n",
      "std      0.486592    0.836071   14.526497    1.102743    0.806057   49.693429\n",
      "min      0.000000    1.000000    0.420000    0.000000    0.000000    0.000000\n",
      "25%      0.000000    2.000000   20.125000    0.000000    0.000000    7.910400\n",
      "50%      0.000000    3.000000   28.000000    0.000000    0.000000   14.454200\n",
      "75%      1.000000    3.000000   38.000000    1.000000    0.000000   31.000000\n",
      "max      1.000000    3.000000   80.000000    8.000000    6.000000  512.329200\n"
     ]
    }
   ],
   "source": [
<<<<<<< HEAD
    "Below is an exploratory analysis of crime in Denver, CO. This data was originally obtained through [Denver's Open Data Catalog](https://www.denvergov.org/opendata/), but was downloaded through [Kaggle](https://www.kaggle.com/paultimothymooney/denver-crime-data). The dataset includes criminal offenses in Denver for the previous five calendar years plus the current year to date. The data is based on the National Incident Based Reporting System (NIBRS) which includes all victims of person crimes and all crimes within an incident. The data is countiuously updated daily each weekday.\n",
    "\n",
    "This dataset can be utilized for several purposes. For this specific exploratory analysis, in the interest of public safety, we hope to better understand features that correlate or are associated with increased crime rates in Denver."
   ]
  },
  {
   "cell_type": "code",
   "execution_count": 46,
   "metadata": {},
   "outputs": [
    {
     "name": "stdout",
     "output_type": "stream",
     "text": [
      "Features with missing values:  ['LAST_OCCURRENCE_DATE', 'INCIDENT_ADDRESS', 'GEO_X', 'GEO_Y', 'GEO_LON', 'GEO_LAT']\n",
      "   INCIDENT_ID         OFFENSE_ID  OFFENSE_CODE  OFFENSE_CODE_EXTENSION  \\\n",
      "0   2016376978   2016376978521300          5213                       0   \n",
      "1  20186000994  20186000994239900          2399                       0   \n",
      "2  20166003953  20166003953230500          2305                       0   \n",
      "3    201872333    201872333239900          2399                       0   \n",
      "4   2017411405   2017411405230300          2303                       0   \n",
      "\n",
      "                OFFENSE_TYPE_ID       OFFENSE_CATEGORY_ID  \\\n",
      "0  weapon-unlawful-discharge-of          all-other-crimes   \n",
      "1                   theft-other                   larceny   \n",
      "2      theft-items-from-vehicle  theft-from-motor-vehicle   \n",
      "3                   theft-other                   larceny   \n",
      "4                theft-shoplift                   larceny   \n",
      "\n",
      "    FIRST_OCCURRENCE_DATE          REPORTED_DATE  DISTRICT_ID  PRECINCT_ID  \\\n",
      "0   6/15/2016 11:31:00 PM  6/15/2016 11:31:00 PM            5          521   \n",
      "1  10/11/2017 12:30:00 PM   1/29/2018 5:53:00 PM            5          522   \n",
      "2     3/4/2016 8:00:00 PM   4/26/2016 9:02:00 PM            3          314   \n",
      "3    1/30/2018 7:20:00 PM  1/30/2018 10:29:00 PM            3          312   \n",
      "4    6/22/2017 8:53:00 PM   6/23/2017 4:09:00 PM            3          311   \n",
      "\n",
      "              NEIGHBORHOOD_ID  IS_CRIME  IS_TRAFFIC  \n",
      "0                   montbello         1           0  \n",
      "1  gateway-green-valley-ranch         1           0  \n",
      "2                   wellshire         1           0  \n",
      "3                     belcaro         1           0  \n",
      "4                cherry-creek         1           0  \n"
     ]
    }
   ],
   "source": [
    "import pandas as pd\n",
    "import matplotlib.pyplot as plt\n",
    "\n",
    "# Read in the data\n",
    "crime = pd.read_csv('/Users/annaberman/Desktop/707 Machine Learning/denver-crime-data/crime.csv')\n",
    "\n",
    "# Identify features with missing values\n",
    "print('Features with missing values: ', crime.columns[crime.isnull().any()].tolist()) \n",
    "\n",
    "print(crime.loc[:, -crime.isnull().any()].head())"
   ]
  },
  {
   "cell_type": "code",
   "execution_count": 52,
   "metadata": {},
   "outputs": [
    {
     "data": {
      "text/plain": [
       "<matplotlib.axes._subplots.AxesSubplot at 0x135bbc240>"
      ]
     },
     "execution_count": 52,
     "metadata": {},
     "output_type": "execute_result"
    },
    {
     "data": {
      "image/png": "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\n",
      "text/plain": [
       "<Figure size 432x288 with 1 Axes>"
      ]
     },
     "metadata": {},
     "output_type": "display_data"
    }
   ],
   "source": [
    "import seaborn as sns\n",
    "\n",
    "# Plot\n",
    "#crime.hist(column = 'OFFENSE_ID', bins = 100)\n",
    "\n",
    "#crime.value_counts(crime['OFFENSE_ID']).plot.bar()\n",
    "\n",
    "\n",
    "#s = crime.groupby(\"keys\").ids.agg(lambda x:len(x.unique()))\n",
    "#pd.value_counts(s).plot(kind=\"bar\")\n",
    "\n",
    "#crime.hist(column = 'OFFENSE_TYPE_ID', bins = 100)\n",
    "#sns.countplot(x=\"OFFENSE_TYPE_ID\", data=crime)\n",
    "#sns.countplot(x=\"NEIGHBORHOOD_ID\", data=crime)\n",
    "sns.countplot(x=\"IS_CRIME\", data=crime)"
   ]
  },
  {
   "cell_type": "code",
   "execution_count": 42,
   "metadata": {},
   "outputs": [
    {
     "name": "stderr",
     "output_type": "stream",
     "text": [
      "UsageError: Line magic function `%pd` not found.\n"
     ]
    }
   ],
   "source": [
    "#import pandas as pd\n",
    "#import matplotlib.pyplot as plt\n",
    "\n",
    "# Read in the data\n",
    "#school = pd.read_csv('/Users/annaberman/Desktop/707 Machine Learning/StudentsPerformance.csv')\n",
    "\n",
    "# Remove any features with missing values\n",
    "#print(school.loc[:, -school.isnull().any()].head())\n",
    "\n",
    "# Plot outcome variables\n",
    "#school.hist('math score')\n",
    "#school.hist('reading score')\n",
    "#school.hist('writing score')"
=======
    "import seaborn as sns\n",
    "import matplotlib.pyplot as plt\n",
    "import numpy as np\n",
    "\n",
    "# Load dataset\n",
    "titanic = sns.load_dataset('titanic')\n",
    "print(titanic.head())\n",
    "print(titanic.describe())"
>>>>>>> refs/remotes/origin/master
   ]
  },
  {
   "cell_type": "code",
<<<<<<< HEAD
   "execution_count": 120,
=======
   "execution_count": 29,
>>>>>>> refs/remotes/origin/master
   "metadata": {},
   "outputs": [
    {
     "name": "stdout",
     "output_type": "stream",
     "text": [
<<<<<<< HEAD
      "   survived  pclass     sex   age  sibsp  parch     fare embarked  class  \\\n",
      "0         0       3    male  22.0      1      0   7.2500        S  Third   \n",
      "1         1       1  female  38.0      1      0  71.2833        C  First   \n",
      "2         1       3  female  26.0      0      0   7.9250        S  Third   \n",
      "3         1       1  female  35.0      1      0  53.1000        S  First   \n",
      "4         0       3    male  35.0      0      0   8.0500        S  Third   \n",
      "\n",
      "     who  adult_male deck  embark_town alive  alone  \n",
      "0    man        True  NaN  Southampton    no  False  \n",
      "1  woman       False    C    Cherbourg   yes  False  \n",
      "2  woman       False  NaN  Southampton   yes   True  \n",
      "3  woman       False    C  Southampton   yes  False  \n",
      "4    man        True  NaN  Southampton    no   True  \n",
      "         survived      pclass         age       sibsp       parch        fare\n",
      "count  891.000000  891.000000  714.000000  891.000000  891.000000  891.000000\n",
      "mean     0.383838    2.308642   29.699118    0.523008    0.381594   32.204208\n",
      "std      0.486592    0.836071   14.526497    1.102743    0.806057   49.693429\n",
      "min      0.000000    1.000000    0.420000    0.000000    0.000000    0.000000\n",
      "25%      0.000000    2.000000   20.125000    0.000000    0.000000    7.910400\n",
      "50%      0.000000    3.000000   28.000000    0.000000    0.000000   14.454200\n",
      "75%      1.000000    3.000000   38.000000    1.000000    0.000000   31.000000\n",
      "max      1.000000    3.000000   80.000000    8.000000    6.000000  512.329200\n",
=======
>>>>>>> refs/remotes/origin/master
      "\n",
      "Features with missing values:  ['age', 'embarked', 'deck', 'embark_town']\n",
      "\n",
      "Number of missing values:\n",
      " survived         0\n",
      "pclass           0\n",
      "sex              0\n",
      "age            177\n",
      "sibsp            0\n",
      "parch            0\n",
      "fare             0\n",
      "embarked         2\n",
      "class            0\n",
      "who              0\n",
      "adult_male       0\n",
      "deck           688\n",
      "embark_town      2\n",
      "alive            0\n",
      "alone            0\n",
      "dtype: int64\n"
     ]
    }
   ],
   "source": [
<<<<<<< HEAD
    "import seaborn as sns\n",
    "import matplotlib.pyplot as plt\n",
    "\n",
    "# Load dataset\n",
    "titanic = sns.load_dataset('titanic')\n",
    "print(titanic.head())\n",
    "print(titanic.describe())\n",
    "\n",
=======
>>>>>>> refs/remotes/origin/master
    "# Clean dataset\n",
    "# Identify features with missing values\n",
    "missing_features = titanic.columns[titanic.isnull().any()].tolist()\n",
    "print('\\nFeatures with missing values: ', missing_features) \n",
    "print('\\nNumber of missing values:\\n',titanic.isnull().sum())\n",
    "\n",
    "# Drop deck for large proportion of missing data\n",
    "titanic = titanic.drop('deck', axis = 1)\n",
    "\n",
    "# Impute mean values for age\n",
    "titanic['age'] = titanic['age'].fillna((titanic['age'].mean()))\n",
    "\n",
<<<<<<< HEAD
=======
    "# Log transform fare (to account for right skew)\n",
    "titanic['fare'] = np.log(titanic['fare']+.0000001)\n",
    "\n",
>>>>>>> refs/remotes/origin/master
    "# Drop remaining rows with missing values\n",
    "titanic = titanic.dropna(axis = 0)"
   ]
  },
  {
   "cell_type": "code",
<<<<<<< HEAD
   "execution_count": 80,
   "metadata": {},
   "outputs": [
    {
     "name": "stdout",
     "output_type": "stream",
     "text": [
      "   survived  pclass     sex   age  sibsp  parch     fare embarked  class  \\\n",
      "0         0       3    male  22.0      1      0   7.2500        S  Third   \n",
      "1         1       1  female  38.0      1      0  71.2833        C  First   \n",
      "2         1       3  female  26.0      0      0   7.9250        S  Third   \n",
      "3         1       1  female  35.0      1      0  53.1000        S  First   \n",
      "4         0       3    male  35.0      0      0   8.0500        S  Third   \n",
      "\n",
      "     who  adult_male deck  embark_town alive  alone  \n",
      "0    man        True  NaN  Southampton    no  False  \n",
      "1  woman       False    C    Cherbourg   yes  False  \n",
      "2  woman       False  NaN  Southampton   yes   True  \n",
      "3  woman       False    C  Southampton   yes  False  \n",
      "4    man        True  NaN  Southampton    no   True  \n"
     ]
    },
    {
     "data": {
      "image/png": "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\n",
=======
   "execution_count": 32,
   "metadata": {},
   "outputs": [
    {
     "data": {
      "image/png": "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\n",
>>>>>>> refs/remotes/origin/master
      "text/plain": [
       "<Figure size 432x288 with 1 Axes>"
      ]
     },
     "metadata": {},
     "output_type": "display_data"
    },
    {
     "data": {
<<<<<<< HEAD
      "image/png": "iVBORw0KGgoAAAANSUhEUgAAAYgAAAEKCAYAAAAIO8L1AAAABHNCSVQICAgIfAhkiAAAAAlwSFlzAAALEgAACxIB0t1+/AAAADl0RVh0U29mdHdhcmUAbWF0cGxvdGxpYiB2ZXJzaW9uIDIuMi4yLCBodHRwOi8vbWF0cGxvdGxpYi5vcmcvhp/UCwAAEBlJREFUeJzt3X3MXnV9x/H3xwLiA/IgNwxbWN1snGwqYiVsJMaBWQCnJU5EM6VzTbol6DAu29hMdE636caGQowJGWjrMwEdHSNzDcKcKA+tIk/F0REHXRmt8iRjbsF998f967xtf7RXsec+d3u/X8mVc873/K6L750r8OF3zrnOSVUhSdL2njZ2A5KkucmAkCR1GRCSpC4DQpLUZUBIkroMCElSlwEhSeoyICRJXQaEJKlrv7Eb+EkcfvjhtXjx4rHbkKS9yvr1679bVVO7GrdXB8TixYtZt27d2G1I0l4lyb9NMs5DTJKkrkEDIsl3ktyW5JYk61rtsCRrk9zdloe2epJcmGRjkluTHD9kb5KknZuNGcQvV9VxVbW0bZ8HXFNVS4Br2jbAacCS9loJfGwWepMkPYkxDjEtA1a19VXAGTPqq2vaDcAhSY4aoT9JEsMHRAH/mGR9kpWtdmRV3Q/Qlke0+kLgvhnv3dRqkqQRDH0V00lVtTnJEcDaJHftZGw6tR2eZtSCZiXAMcccs2e6lCTtYNAZRFVtbsstwBeBE4AHth06asstbfgm4OgZb18EbO585sVVtbSqlk5N7fIyXknSUzRYQCR5VpKDtq0DvwLcDqwBlrdhy4Er2/oa4Ox2NdOJwCPbDkVJkmbfkIeYjgS+mGTbP+czVfUPSW4GLkuyArgXOLONvxo4HdgIPA68bcDeJEm7MFhAVNU9wEs79e8Bp3TqBZwzVD+SxnHSRSeN3cK8cP07rt/jn+kvqSVJXQaEJKnLgJAkdRkQkqQuA0KS1GVASJK6DAhJUpcBIUnqMiAkSV0GhCSpy4CQJHUZEJKkLgNCktRlQEiSugwISVKXASFJ6jIgJEldBoQkqcuAkCR1GRCSpC4DQpLUZUBIkroMCElSlwEhSeoyICRJXQaEJKnLgJAkdRkQkqQuA0KS1GVASJK6DAhJUpcBIUnqMiAkSV2DB0SSBUm+meSqtv38JDcmuTvJ55Mc0OpPb9sb2/7FQ/cmSXpyszGDOBfYMGP7Q8AFVbUEeAhY0eorgIeq6gXABW2cJGkkgwZEkkXAa4C/adsBTgYub0NWAWe09WVtm7b/lDZekjSCoWcQHwZ+H/jftv1c4OGqeqJtbwIWtvWFwH0Abf8jbbwkaQSDBUSSXwW2VNX6meXO0Jpg38zPXZlkXZJ1W7du3QOdSpJ6hpxBnAS8Lsl3gM8xfWjpw8AhSfZrYxYBm9v6JuBogLb/YODB7T+0qi6uqqVVtXRqamrA9iVpfhssIKrqD6tqUVUtBt4EfLmqfh24FnhDG7YcuLKtr2nbtP1frqodZhCSpNkxxu8g/gB4V5KNTJ9juKTVLwGe2+rvAs4boTdJUrPfrof85KrqOuC6tn4PcEJnzA+AM2ejH0nSrvlLaklSlwEhSeoyICRJXQaEJKnLgJAkdRkQkqQuA0KS1GVASJK6DAhJUpcBIUnqMiAkSV0GhCSpy4CQJHUZEJKkLgNCktRlQEiSugwISVKXASFJ6jIgJEldBoQkqcuAkCR1GRCSpC4DQpLUZUBIkroMCElSlwEhSeoyICRJXQaEJKnLgJAkdRkQkqQuA0KS1GVASJK6DAhJUpcBIUnqGiwgkhyY5KYk30pyR5L3tfrzk9yY5O4kn09yQKs/vW1vbPsXD9WbJGnXhpxB/DdwclW9FDgOODXJicCHgAuqagnwELCijV8BPFRVLwAuaOMkSSMZLCBq2mNtc//2KuBk4PJWXwWc0daXtW3a/lOSZKj+JEk7N+g5iCQLktwCbAHWAv8KPFxVT7Qhm4CFbX0hcB9A2/8I8NzOZ65Msi7Juq1btw7ZviTNa4MGRFX9sKqOAxYBJwAv6g1ry95soXYoVF1cVUuraunU1NSea1aS9GNm5SqmqnoYuA44ETgkyX5t1yJgc1vfBBwN0PYfDDw4G/1JknY05FVMU0kOaevPAF4NbACuBd7Qhi0Hrmzra9o2bf+Xq2qHGYQkaXbst+shT9lRwKokC5gOosuq6qokdwKfS/IB4JvAJW38JcAnk2xkeubwpgF7kyTtwmABUVW3Ai/r1O9h+nzE9vUfAGcO1Y8kafdMdIgpyTWT1CRJ+46dziCSHAg8Ezg8yaH86Eqj5wDPG7g3SdKIdnWI6beAdzIdBuv5UUA8Cnx0wL4kSSPbaUBU1UeAjyR5R1VdNEs9SZLmgIlOUlfVRUl+CVg88z1VtXqgviRJI5soIJJ8EvhZ4Bbgh61cgAEhSfuoSS9zXQoc6w/XJGn+mPSX1LcDPzVkI5KkuWXSGcThwJ1JbmL6OQ8AVNXrBulKkjS6SQPij4dsQpI090x6FdM/Dd2IJGlumfQqpu/zo2czHMD00+H+s6qeM1RjkqRxTTqDOGjmdpIz6NxwT5K073hKz4Ooqr9l+tnSkqR91KSHmF4/Y/NpTP8uwt9ESNI+bNKrmF47Y/0J4DvAsj3ejSRpzpj0HMTbhm5EkjS3TPrAoEVJvphkS5IHklyRZNHQzUmSxjPpSeqPA2uYfi7EQuDvWk2StI+aNCCmqurjVfVEe30CmBqwL0nSyCYNiO8meUuSBe31FuB7QzYmSRrXpAHxm8Abgf8A7gfeAHjiWpL2YZNe5vp+YHlVPQSQ5DDgfKaDQ5K0D5p0BvGSbeEAUFUPAi8bpiVJ0lwwaUA8Lcmh2zbaDGLS2YckaS806X/k/wr4WpLLmb7FxhuBPx2sK0nS6Cb9JfXqJOuYvkFfgNdX1Z2DdiZJGtXEh4laIBgKkjRPPKXbfUuS9n0GhCSpa95cifTy31s9dgvzwvq/PHvsFiTtIc4gJEldBoQkqWuwgEhydJJrk2xIckeSc1v9sCRrk9zdloe2epJcmGRjkluTHD9Ub5KkXRtyBvEE8LtV9SLgROCcJMcC5wHXVNUS4Jq2DXAasKS9VgIfG7A3SdIuDBYQVXV/VX2jrX8f2MD0w4aWAavasFXAGW19GbC6pt0AHJLkqKH6kyTt3Kycg0iymOmb+90IHFlV98N0iABHtGELgftmvG1Tq23/WSuTrEuybuvWrUO2LUnz2uABkeTZwBXAO6vq0Z0N7dRqh0LVxVW1tKqWTk35UDtJGsqgAZFkf6bD4dNV9YVWfmDboaO23NLqm4CjZ7x9EbB5yP4kSU9uyKuYAlwCbKiqv56xaw2wvK0vB66cUT+7Xc10IvDItkNRkqTZN+QvqU8C3grcluSWVvsj4IPAZUlWAPcCZ7Z9VwOnAxuBx/GRppI0qsECoqq+Sv+8AsApnfEFnDNUP5Kk3eMvqSVJXfPmZn3au937Jy8eu4V93jHvuW3sFjTHOIOQJHUZEJKkLgNCktRlQEiSugwISVKXASFJ6jIgJEldBoQkqcuAkCR1GRCSpC4DQpLUZUBIkroMCElSlwEhSeoyICRJXQaEJKnLgJAkdRkQkqQuA0KS1GVASJK6DAhJUpcBIUnqMiAkSV0GhCSpy4CQJHUZEJKkLgNCktRlQEiSugwISVKXASFJ6jIgJEldgwVEkkuTbEly+4zaYUnWJrm7LQ9t9SS5MMnGJLcmOX6oviRJkxlyBvEJ4NTtaucB11TVEuCatg1wGrCkvVYCHxuwL0nSBAYLiKr6CvDgduVlwKq2vgo4Y0Z9dU27ATgkyVFD9SZJ2rXZPgdxZFXdD9CWR7T6QuC+GeM2tZokaSRz5SR1OrXqDkxWJlmXZN3WrVsHbkuS5q/ZDogHth06asstrb4JOHrGuEXA5t4HVNXFVbW0qpZOTU0N2qwkzWezHRBrgOVtfTlw5Yz62e1qphOBR7YdipIkjWO/oT44yWeBVwGHJ9kEvBf4IHBZkhXAvcCZbfjVwOnARuBx4G1D9SVJmsxgAVFVb36SXad0xhZwzlC9SJJ231w5SS1JmmMMCElSlwEhSeoyICRJXQaEJKnLgJAkdRkQkqQuA0KS1GVASJK6DAhJUpcBIUnqMiAkSV0GhCSpy4CQJHUZEJKkLgNCktRlQEiSugwISVKXASFJ6jIgJEldBoQkqcuAkCR1GRCSpC4DQpLUZUBIkroMCElSlwEhSeoyICRJXQaEJKnLgJAkdRkQkqQuA0KS1GVASJK65lRAJDk1ybeTbExy3tj9SNJ8NmcCIskC4KPAacCxwJuTHDtuV5I0f82ZgABOADZW1T1V9T/A54BlI/ckSfPWXAqIhcB9M7Y3tZokaQT7jd3ADOnUaodByUpgZdt8LMm3B+1qXIcD3x27id2R85eP3cJcsdd9d7y396/gvLXXfX/5nd36/n56kkFzKSA2AUfP2F4EbN5+UFVdDFw8W02NKcm6qlo6dh/afX53eze/v2lz6RDTzcCSJM9PcgDwJmDNyD1J0rw1Z2YQVfVEkrcDXwIWAJdW1R0jtyVJ89acCQiAqroauHrsPuaQeXEobR/ld7d38/sDUrXDeWBJkubUOQhJ0hxiQMxBSS5NsiXJ7WP3ot2T5Ogk1ybZkOSOJOeO3ZMml+TAJDcl+Vb7/t43dk9j8hDTHJTklcBjwOqq+oWx+9HkkhwFHFVV30hyELAeOKOq7hy5NU0gSYBnVdVjSfYHvgqcW1U3jNzaKJxBzEFV9RXgwbH70O6rqvur6htt/fvABrwjwF6jpj3WNvdvr3n7f9EGhDSQJIuBlwE3jtuJdkeSBUluAbYAa6tq3n5/BoQ0gCTPBq4A3llVj47djyZXVT+squOYvpvDCUnm7WFeA0Law9qx6yuAT1fVF8buR09NVT0MXAecOnIrozEgpD2oneS8BNhQVX89dj/aPUmmkhzS1p8BvBq4a9yuxmNAzEFJPgt8HXhhkk1JVozdkyZ2EvBW4OQkt7TX6WM3pYkdBVyb5Fam7w+3tqquGrmn0XiZqySpyxmEJKnLgJAkdRkQkqQuA0KS1GVASJK6DAhpD0nyqiTz9pJI7XsMCElSlwEh7USSxUnuSrIqya1JLk/yzCSvSPK19tyAm9qtvWe+74S2/5tt+cJW//k2/pb2eUuSPCvJ37fPuj3JWeP8tdKPm1PPpJbmqBcCK6rq+iSXAm8Hfhs4q6puTvIc4L+2e89dwCur6okkrwb+DPi19r6PVNWnkxwALABOBzZX1WsAkhw8O3+WtHMGhLRr91XV9W39U8C7gfur6maAbXdrnb4N0/87GFiVZAnTzxPYv9W/Drw7ySLgC1V1d5LbgPOTfAi4qqr+efC/SJqAh5ikXdv+fjSPdmrbez9wbXsi4GuBAwGq6jPA65iecXwpyclV9S/Ay4HbgD9P8p492bz0VBkQ0q4dk+QX2/qbgRuA5yV5BUCSg5JsPxs/GPj3tv4b24pJfga4p6ouBNYAL0nyPODxqvoUcD5w/GB/ibQbDAhp1zYAy9sdPg8DLgLOAi5K8i1gLW2GMMNfMD0buJ7p8wzbnAXc3p5Y9nPAauDFwE2t9m7gA0P+MdKkvJurtBPtsaFXtUNF0rziDEKS1OUMQpLU5QxCktRlQEiSugwISVKXASFJ6jIgJEldBoQkqev/AGF+2TrSTvVwAAAAAElFTkSuQmCC\n",
=======
      "image/png": "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\n",
>>>>>>> refs/remotes/origin/master
      "text/plain": [
       "<Figure size 432x288 with 1 Axes>"
      ]
     },
     "metadata": {},
     "output_type": "display_data"
    },
    {
     "data": {
<<<<<<< HEAD
      "image/png": "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\n",
=======
      "image/png": "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\n",
>>>>>>> refs/remotes/origin/master
      "text/plain": [
       "<Figure size 432x288 with 1 Axes>"
      ]
     },
     "metadata": {},
     "output_type": "display_data"
    },
    {
     "data": {
<<<<<<< HEAD
      "image/png": "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\n",
=======
      "image/png": "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\n",
>>>>>>> refs/remotes/origin/master
      "text/plain": [
       "<Figure size 432x288 with 1 Axes>"
      ]
     },
     "metadata": {},
     "output_type": "display_data"
    },
    {
     "data": {
<<<<<<< HEAD
      "image/png": "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\n",
=======
      "image/png": "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\n",
>>>>>>> refs/remotes/origin/master
      "text/plain": [
       "<Figure size 432x288 with 1 Axes>"
      ]
     },
     "metadata": {},
     "output_type": "display_data"
    },
    {
     "data": {
<<<<<<< HEAD
      "image/png": "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\n",
=======
      "image/png": "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\n",
>>>>>>> refs/remotes/origin/master
      "text/plain": [
       "<Figure size 432x288 with 1 Axes>"
      ]
     },
     "metadata": {},
     "output_type": "display_data"
    },
    {
     "data": {
<<<<<<< HEAD
      "image/png": "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\n",
=======
      "image/png": "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\n",
>>>>>>> refs/remotes/origin/master
      "text/plain": [
       "<Figure size 432x288 with 1 Axes>"
      ]
     },
     "metadata": {},
     "output_type": "display_data"
    },
    {
     "data": {
<<<<<<< HEAD
      "image/png": "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\n",
=======
      "image/png": "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\n",
>>>>>>> refs/remotes/origin/master
      "text/plain": [
       "<Figure size 432x288 with 1 Axes>"
      ]
     },
     "metadata": {},
     "output_type": "display_data"
    },
    {
     "data": {
<<<<<<< HEAD
      "image/png": "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\n",
=======
      "image/png": "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\n",
>>>>>>> refs/remotes/origin/master
      "text/plain": [
       "<Figure size 432x288 with 1 Axes>"
      ]
     },
     "metadata": {},
     "output_type": "display_data"
    },
    {
     "data": {
<<<<<<< HEAD
      "image/png": "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\n",
=======
      "image/png": "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\n",
>>>>>>> refs/remotes/origin/master
      "text/plain": [
       "<Figure size 432x288 with 1 Axes>"
      ]
     },
     "metadata": {},
     "output_type": "display_data"
    },
    {
     "data": {
<<<<<<< HEAD
      "image/png": "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\n",
=======
      "image/png": "iVBORw0KGgoAAAANSUhEUgAAAYIAAAEFCAYAAADuT+DpAAAABHNCSVQICAgIfAhkiAAAAAlwSFlzAAALEgAACxIB0t1+/AAAADl0RVh0U29mdHdhcmUAbWF0cGxvdGxpYiB2ZXJzaW9uIDIuMi4yLCBodHRwOi8vbWF0cGxvdGxpYi5vcmcvhp/UCwAAH0hJREFUeJzt3XtYVHX+B/D3MFxMLhFaKEsaID5oK/kAwdYiirmilou2yK3VWtwsS5RMFwK5CCgQhT2KKe4+bRulAVqauz2VWC6hAjZpLpiiPF4QEC9YwCC3me/vD3/MRoKOrQeE7/v1j8535pzzmXOY8z7fM2e+RyWEECAiImmZ9HcBRETUvxgERESSYxAQEUmOQUBEJDkGARGR5Ez7u4BfQqPR9HcJREQDkqen5w1tAzIIgJ7fDBER9a63g2ieGiIikhyDgIhIcgwCIiLJMQiIiCTHICAikhyDgIhIcgwCIiLJMQiIiCTHICAiktyA/WWxsR5/MqS/Sxj0Dvwrr79LIKL/AXsERESSYxAQEUmOQUBEJDkGARGR5BgERESSYxAQEUmOQUBEJDkGARGR5BgERESSYxAQEUlO0SEmcnJy8OWXX6KjowNhYWHw9vZGTEwMVCoVXF1dkZiYCBMTE2RnZ2Pfvn0wNTVFbGws3N3dlSyLiIh+QrEeQWlpKQ4fPoxt27YhNzcXFy5cQFpaGqKiorB161YIIbB3715UVFSgrKwMBQUFyMrKwurVq5UqiYiIeqBYEBQXF2Ps2LF4+eWX8eKLL2LKlCmoqKiAt7c3AMDPzw8HDhyARqOBr68vVCoVHBwcoNPp0NDQoFRZRET0M4qdGrp69Spqa2uxefNmnD9/HosXL4YQAiqVCgBgaWmJpqYmNDc3w9bW1jBdV7udnd1N56/RaJQqnW4TtwXRwKZYENja2sLZ2Rnm5uZwdnaGhYUFLly4YHheq9XCxsYGVlZW0Gq13dqtra1vOX9PT09F6qbbx21BNDD0dtCm2KkhT09PfP311xBCoL6+HteuXcNjjz2G0tJSAEBRURG8vLzg4eGB4uJi6PV61NbWQq/X37I3QEREd45iPQJ/f38cOnQIQUFBEEIgISEBjo6OiI+PR1ZWFpydnREQEAC1Wg0vLy+EhIRAr9cjISFBqZKIiKgHKiGE6O8ibpdGozH6dATvUKY83qGMaGDobd/JH5QREUmOQUBEJDkGARGR5BgERESSYxAQEUmOQUBEJDkGARGR5BgERESSYxAQEUmOQUBEJDkGARGR5BgERESSYxAQEUmOQUBEJDkGARGR5BgERESSYxAQEUmOQUBEJDkGARGR5BgERESSYxAQEUmOQUBEJDkGARGR5BgERESSM1Vy5nPmzIG1tTUAwNHRESEhIVizZg3UajV8fX2xZMkS6PV6JCUl4cSJEzA3N0dqaipGjx6tZFlERPQTigVBW1sbACA3N9fQFhgYiA0bNuDBBx/EokWLUFFRgZqaGrS3tyMvLw9HjhxBeno6Nm3apFRZRET0M4oFwfHjx3Ht2jVERESgs7MTkZGRaG9vx6hRowAAvr6+OHjwIC5duoRJkyYBACZOnIjy8nKlSiIioh4oFgRDhgzBwoULMW/ePJw5cwbPP/88bGxsDM9bWlqiuroazc3NsLKyMrSr1Wp0dnbC1PTmpWk0GqVKp9vEbUE0sCkWBE5OThg9ejRUKhWcnJxgbW2NH374wfC8VquFjY0NWltbodVqDe16vf6WIQAAnp6eitRNt4/bgmhg6O2gTbGrhrZv34709HQAQH19Pa5du4ahQ4fi3LlzEEKguLgYXl5e8PDwQFFREQDgyJEjGDt2rFIlERFRDxTrEQQFBeG1115DWFgYVCoV1q5dCxMTE6xYsQI6nQ6+vr545JFHMGHCBOzfvx+hoaEQQmDt2rVKlURERD1QLAjMzc3x5ptv3tCen5/f7bGJiQmSk5OVKoOIiG6BPygjIpIcg4CISHIMAiIiyTEIiIgkxyAgIpIcg4CISHIMAiIiyTEIiIgkxyAgIpIcg4CISHIMAiIiyTEIiIgkxyAgIpIcg4CISHIMAiIiyTEIiIgkxyAgIpIcg4CISHIMAiIiyTEIiIgkxyAgIpIcg4CISHIMAiIiyTEIiIgkxyAgIpKcokFw5coVTJ48GVVVVTh79izCwsIQHh6OxMRE6PV6AEB2djaCgoIQGhqKo0ePKlkOERH1QLEg6OjoQEJCAoYMGQIASEtLQ1RUFLZu3QohBPbu3YuKigqUlZWhoKAAWVlZWL16tVLlEBFRL0yVmnFGRgZCQ0OxZcsWAEBFRQW8vb0BAH5+fti/fz+cnJzg6+sLlUoFBwcH6HQ6NDQ0wM7O7pbz12g0SpVOt4nbgmhgUyQIPvroI9jZ2WHSpEmGIBBCQKVSAQAsLS3R1NSE5uZm2NraGqbrajcmCDw9PZUonX4BbguigaG3gzZFgmDHjh1QqVQ4ePAgvv/+e0RHR6OhocHwvFarhY2NDaysrKDVaru1W1tbK1ESERH1QpHvCD744AO8//77yM3Nxbhx45CRkQE/Pz+UlpYCAIqKiuDl5QUPDw8UFxdDr9ejtrYWer3eqN4AERHdOYp9R/Bz0dHRiI+PR1ZWFpydnREQEAC1Wg0vLy+EhIRAr9cjISGhr8ohIqL/pxJCiP4u4nZpNBqjz0s//mSIwtXQgX/l9XcJRGSE3vad/EEZEZHkGARERJJjEBARSc6oIEhJSbmhLTo6+o4XQ0REfe+mVw3FxcWhuroa5eXlOHnypKG9s7MTTU1NihdHRETKu2kQLF68GDU1NVizZg2WLFliaFer1XBxcVG8OCIiUt5Ng8DR0RGOjo745JNP0NzcjKamJnRdbdrS0tJteAgiIhqYjPpBWU5ODnJycrrt+FUqFfbu3atYYURE1DeMCoKCggIUFhZy+AciokHIqKuGRo4ciXvvvVfpWoiIqB8Y1SN46KGHEB4eDh8fH5ibmxvaf/oFMhERDUxGBYG9vT3s7e2VroWIiPqBUUHAI38iosHLqCBwc3Mz3F2sywMPPIB///vfihRFRER9x6ggOH78uOH/HR0dKCwsxJEjRxQrioiI+s5tDzpnZmaGmTNnoqSkRIl6iIiojxnVI9i5c6fh/0IInDx5EqamfXZzMyIiUpBRe/Ouew13ue+++/DWW28pUhAREfUto4IgLS0NHR0dOH36NHQ6HVxdXdkjICIaJIzam5eXl2Pp0qWwtbWFXq/H5cuXsXHjRjzyyCNK10dERAozKghSU1Oxbt06w47/yJEjSElJwfbt2xUtjoiIlGfUVUMtLS3djv4nTpyItrY2xYoiIqK+Y1QQ3HvvvSgsLDQ8Liws5L0IiIgGCaNODaWkpOCFF15AXFycoe3DDz9UrCgiIuo7RgVBUVER7rnnHnz88cc4d+4cXnnlFZSVlcHJyanXaXQ6HVatWoXTp09DrVYjLS0NQgjExMRApVLB1dUViYmJMDExQXZ2Nvbt2wdTU1PExsbC3d39jr1BIiK6OaOCID8/HwUFBbjnnnvg5uaGjz76CMHBwQgJCel1mq+++grA9Z5DaWmpIQiioqLg4+ODhIQE7N27Fw4ODigrK0NBQQHq6uoQGRmJHTt23Jl3R0REt2RUEHR0dMDMzMzw+Kf/7820adMwZcoUAEBtbS2GDx+Offv2wdvbGwDg5+eH/fv3w8nJCb6+vlCpVHBwcIBOp0NDQ8Mt74am0WiMKZ36ALcF0cBmVBBMmzYNzz77LGbOnAmVSoXPP/8cTzzxxK1nbmqK6Oho7NmzB+vXr8dXX31lGMXU0tISTU1NaG5u7vbFc1f7rYLA09PTmNKpD3BbEA0MvR20GRUEK1euxGeffYZDhw7B1NQUCxYswLRp04xacEZGBlasWIHg4OBul5xqtVrY2NjAysoKWq22W7u1tbVR8yYiov+d0eNEzJgxAzNmzDB6xjt37kR9fT1eeOEF3HPPPVCpVPj1r3+N0tJS+Pj4oKioCL/5zW8watQoZGZmYuHChbhw4QL0ev0tewNERHTnKDZg0PTp0/Haa6/hmWeeQWdnJ2JjY+Hi4oL4+HhkZWXB2dkZAQEBUKvV8PLyQkhICPR6PRISEpQqiYiIeqASQoj+LuJ2aTQao89LP/5k71c20Z1x4F95/V0CERmht33nbd+YhoiIBhcGARGR5BgERESSYxAQEUmOQUBEJDkGARGR5BgERESSYxAQEUmOQUBEJDkGARGR5BgERESSYxAQEUmOQUBEJDkGARGR5BgERESSYxAQEUmOQUBEJDkGARGR5BgERESSYxAQEUmOQUBEJDkGARGR5BgERESSYxAQEUnOVImZdnR0IDY2FjU1NWhvb8fixYsxZswYxMTEQKVSwdXVFYmJiTAxMUF2djb27dsHU1NTxMbGwt3dXYmSiIioF4oEwSeffAJbW1tkZmbi6tWrmDt3Ltzc3BAVFQUfHx8kJCRg7969cHBwQFlZGQoKClBXV4fIyEjs2LFDiZKIiKgXigTBjBkzEBAQYHisVqtRUVEBb29vAICfnx/2798PJycn+Pr6QqVSwcHBATqdDg0NDbCzs7vlMjQajRKl0y/AbUE0sCkSBJaWlgCA5uZmLF26FFFRUcjIyIBKpTI839TUhObmZtja2nabrqmpyagg8PT0VKJ0+gW4LYgGht4O2hT7sriurg4LFixAYGAgZs+eDROT/y5Kq9XCxsYGVlZW0Gq13dqtra2VKomIiHqgSBBcvnwZERERWLlyJYKCggAA48ePR2lpKQCgqKgIXl5e8PDwQHFxMfR6PWpra6HX643qDRAR0Z2jyKmhzZs3o7GxEW+//TbefvttAEBcXBxSU1ORlZUFZ2dnBAQEQK1Ww8vLCyEhIdDr9UhISFCiHCIiugmVEEL0dxG3S6PRGH1e+vEnQxSuhg78K6+/SyAiI/S27+QPyoiIJMcgICKSHIOAiEhyDAIiIskxCIiIJKfI5aNEd8qUiLj+LmHQ2/fOmv4ugfoZewRERJJjEBARSY5BQEQkOQYBEZHkGARERJJjEBARSY5BQEQkOQYBEZHkGARERJJjEBARSY5BQEQkOQYBEZHkGARERJJjEBARSY5BQEQkOQYBEZHkGARERJJjEBARSU7RIPjuu+8wf/58AMDZs2cRFhaG8PBwJCYmQq/XAwCys7MRFBSE0NBQHD16VMlyiIioB4oFwV//+lesWrUKbW1tAIC0tDRERUVh69atEEJg7969qKioQFlZGQoKCpCVlYXVq1crVQ4REfVCsSAYNWoUNmzYYHhcUVEBb29vAICfnx8OHDgAjUYDX19fqFQqODg4QKfToaGhQamSiIioB6ZKzTggIADnz583PBZCQKVSAQAsLS3R1NSE5uZm2NraGl7T1W5nZ3fL+Ws0mjtfNP0i3BYDG7cfKRYEP2di8t/Oh1arhY2NDaysrKDVaru1W1tbGzU/T0/PO14j/TLKbouPFJw3AfwsyaS30O+zq4bGjx+P0tJSAEBRURG8vLzg4eGB4uJi6PV61NbWQq/XG9UbICKiO6fPegTR0dGIj49HVlYWnJ2dERAQALVaDS8vL4SEhECv1yMhIaGvyiEiov+naBA4OjoiPz8fAODk5IT333//htdERkYiMjJSyTKIiOgm+IMyIiLJMQiIiCTXZ98REJFcpr/2Tn+XMOh9kRZxR+bDHgERkeQYBEREkmMQEBFJjkFARCQ5BgERkeQYBEREkmMQEBFJjkFARCQ5BgERkeQYBEREkmMQEBFJjkFARCQ5BgERkeQYBEREkmMQEBFJjkFARCQ5BgERkeQYBEREkmMQEBFJjkFARCQ5BgERkeRM+7sAANDr9UhKSsKJEydgbm6O1NRUjB49ur/LIiKSwl3RIygsLER7ezvy8vLw6quvIj09vb9LIiKSxl0RBBqNBpMmTQIATJw4EeXl5f1cERGRPFRCCNHfRcTFxWH69OmYPHkyAGDKlCkoLCyEqWnPZ640Gk1flkdENGh4enre0HZXfEdgZWUFrVZreKzX63sNAaDnN0JERL/MXXFqyMPDA0VFRQCAI0eOYOzYsf1cERGRPO6KU0NdVw1VVlZCCIG1a9fCxcWlv8siIpLCXREERETUf+6KU0NERNR/GARERJJjEBARSY5BcAtbtmzBc889h4iICCxcuPC2f+z2ww8/YPfu3QCAmJgYw9VRSqmtrcWXX36p6DIGg5MnT2LRokWYP38+/vCHP2D9+vUoKSnBK6+88ovmN3XqVLS1td3hKgkAysvLERERgbCwMISGhmLdunVob2/v0xra2tpQUFDQp8vsSwyCmzh16hS+/PJL/P3vf8c777yDFStWIDY29rbmceLEiT7dMZeUlODbb7/ts+UNRI2NjVi+fDliY2ORm5uL/Px8VFZW4vTp0/1dGv3MhQsXsHLlSsTHx2Pbtm3Ytm0bzMzMkJaW1qd1XLp0aVAHAa8auomGhgbMmTMHkZGR8PPzg729Pdrb23Hq1CmkpKRArVbDwsICKSkp0Ov1WL58OfLz8wEAwcHByMrKQnx8PI4fP46oqCgcPnwYTU1NaGpqQnNzM5KSkuDu7o4333wT5eXl0Gq1cHFxQVpaGjZs2ICzZ8/i6tWr+PHHHxEeHo4vvvgCp0+fRkZGBoYPH45ly5bh/vvvR319Pfz8/LB06VI8+eSTaG1tRXx8PEaOHNljna+++ipGjBiB6upqTJgwAatXr+7nNd23Pv74Y1RUVGDVqlWGNq1Wi8OHDyMrKwt2dnZoaGiAv78/IiMjceLECaSmpgIAbG1tsXbtWhw7dgxvvPEGzMzMEBwcjPXr1+PRRx9FTU0Nhg0bhoyMDKjVasTGxqK6uho6nQ5/+tOfMGvWLMyfPx9JSUlwcXHBtm3bcPnyZcydOxeLFy+Gra0t/Pz84OPjg9WrV8PS0hLDhg2DhYWFlGNwbd68Gebm5oiIiDC0CSHwxBNPYNiwYUhPT++2HiMjI5Gbm4t//vOfUKlUmDVrFhYsWIC6ujrEx8ejra3N8FnQ6XQ9fhY0Gg0yMjJgamoKGxsbvPHGG0hPT8enn36KiIgILFiwACtXrkRzczN0Oh2WLVsGrVaLAwcOICEhATk5OThy5Ag2bdqEXbt2oa6uDmfOnIG5uTlqampw8eJFpKen4+GHH+7HNfszgm6qvLxcxMTEiMmTJ4uAgADx2Wefiblz54pjx44JIYTYs2ePiIyMFNXV1WLevHmG6ebNmyeqq6tFSUmJiIqKEkIIER0dLTZu3CiEEGLHjh0iMTFRNDU1iS1btgghhNDpdGLGjBniwoULYv369SIuLk4IIUROTo5YunSpEEKI7du3i9TUVFFdXS18fHzE1atXRWdnpwgODhbl5eVix44dIjMzUwgheq3T29tbNDU1ic7OTjFlyhRx8eLFPliTd4/NmzeLd99994b2kpISMWvWLNHW1iZaWlqEt7e3EOL6tjx58qQQQoj8/HyRlZUlSkpKxOzZsw3T+vv7i8OHDwshhMjIyBD/+Mc/RG5urlizZo0QQoimpibxu9/9Tly5ckX88Y9/FKdOnRJCCLF161axfv16w/Zsa2sTQggxZ84cUVlZKYQQIisrS0RHRyu0Nu5u8fHx4osvvrihfd68eWLKlCk3rMeTJ0+K0NBQ0dnZKXQ6nZg/f76oqqoSy5YtE/v27RNCCHHgwAGxfPnyXj8L6enpYsuWLUKn04k9e/aImpqabp/v9PR0w9/PhQsXhL+/v9BqteKpp54SQgjx5z//WcyZM0d0dHSIZcuWiVOnTono6GixadMmIYQQeXl5Ij4+XvF1dzvuiiEm7lZnz56FlZWVoRv6n//8B4sWLUJLSwvGjRsHAHj00Ufx5ptv3jCt6KWj1XUUMHz4cLS2tsLCwgINDQ1Yvnw5hg4dipaWFnR0dAAAxo8fDwCwtrbGmDFjAAD33nuv4Vy0m5sbbG1tAQDu7u43nNq4ePFij3WOGjUKVlZWAID7779funPbDg4OOHbsWLe26upqHDp0CK6urjA3NwcAwzAnVVVVhl5TR0cHnJycAMDwLwCYmZlh4sSJAK7/Un7//v0AgMcffxzA9WFUXFxcUF1d3W25P/07cXR0NCz74sWLcHV1BXB9SJVPP/30DrzzgcfBweGGdabX61FbWwt7e3tDW9d6rKysRG1tLZ577jkAwI8//ohz586hsrISOTk5+Nvf/gYhBMzMzAD0/Fl48cUXsXnzZjz77LOwt7eHu7t7t+8kqqqqMHv2bACAvb09rKys0NLSAicnJxw9ehSmpqaYOHEiDh06hLq6OsOPY7s+iyNGjLjrTt/yO4KbOHHiBJKSkgw7SicnJ1hbW8PJyQnHjx8HABw6dAgPPfQQLCwscOXKFeh0OjQ2NuL8+fMAABMTE+j1esM8VSpVt2UUFRWhrq4OWVlZWL58OVpbWw1/1D9/7c9VVVXh2rVr0Ol0OHr0KMaMGdNteQ888MANdRoz38HO398fX3/9Nc6dOwfg+s49PT0d9913X4/rxsnJCRkZGcjNzcXKlSsNgyOamPz349PR0YHvv/8eAPDNN9/A1dUVLi4u+OabbwAAzc3NqKysNOzsL126BADdAumn8xsxYgROnToFAPjuu+/u5NsfUAIDA1FQUIAzZ86gsbERERERiIuLg7+/P2xtbW9Yj87OzhgzZgzee+895Obm4umnn8bYsWPh7OyMFStWIDc3F6tXr0ZAQACAnj8Lu3fvxty5c5GbmwtXV1fk5+d3+1z9dLvW19ejsbERtra2mDZtGjIzM+Hj4wNfX1+sW7cOjz32mGG+d/Pnjj2Cm5g+fTqqqqowb948DB06FEII/OUvf4GDgwNSUlIghIBarcbatWtx//3347e//S2CgoIwatQow411Ro0ahcrKSrz77rs9LsPd3R1vv/02goODYW5ujgcffBAXL140qj4zMzMsW7YMly9fxowZM+Dm5ga9Xo9Nmzbh4YcfRmpq6g110vWj8/T0dKxatQpCCGi1Wvj7+3f7gP9UUlISoqOjodPpAABr1qy5YRuZmZkhNzcXZ8+ehYODA1599VUIIRAfH4+wsDC0tbVhyZIlGDZsGBYsWIDk5GSMHDkSDzzwQI81JiYmIjY2FkOHDoWZmVm3o1+ZjBw5EpmZmUhJSYFWq0VraytMTEwwfPhwzJkz54b16ObmhsceewxhYWFob2+Hu7s77O3tER0dbTioa21tRVxcXK/LnDBhAmJiYgzrPjk5GcOGDUNHRwcyMzPxwgsvIDY2Fp9//jlaW1uRnJwMU1NT+Pv7IzY2FomJiRgxYgSWLVuGpKSkPlpT/xt+WTxAnT9/vtuX0zS4fPDBB5g5cybs7Oywbt06mJmZYcmSJf1d1l3j+PHjePDBB2FpadnfpQwK7BEQ3YWGDRuGiIgIDB06FNbW1lJeMXQzbm5u/V3CoMIeARGR5PhlMRGR5BgERESSYxAQEUmOQUBEJDkGARGujx7a9SPAX2L+/PkoLS29rdcT3S0YBET9oKysrL9LIDJgENCgsmXLFsydOxe///3v8frrr6O6uhqBgYF45ZVXMHv2bERHR+PDDz9ESEgIZsyYgaqqKsO02dnZmDNnDkJCQgxDc1RWVhruWeDv749t27YBADZs2ICFCxdi1qxZ2Lp1q2EeV65cwVNPPYXCwsJea+wayXTevHkAgK+++gqBgYGYPXs2XnrpJVy+fBnvvPMOMjMzAQDFxcXw8PBAZ2cnAGDmzJm4fPkypk6dirfeegtBQUF48sknb/teGURdGAQ0aBQVFaG8vBzbt2/Hzp07UV9fj927d+PEiRN4/vnnsWvXLnz77beoqalBXl4ennrqKeTl5RmmHz16NHbu3ImXXnoJMTExAICCggK89NJL2LFjB9577z28/vrrhte3t7fj008/RXh4OACgqakJixYtwpIlSzBt2rRe6+wa/rqgoABXrlxBQkICNm7ciN27d8PDwwPJycmYPHkyDh48COD6PSaGDBmCY8eOobq6GtbW1hg+fDiA68Nib9++HaGhocjJybmzK5SkwSCgQePgwYM4evQonn76acydOxfl5eU4deoUhg8fjvHjx8PExAQjRowwDATm4OCAxsZGw/RdR+iTJ09GbW0tGhsbERMTg7a2NuTk5OCtt95CS0uL4fXu7u7dlp+YmIjOzk5Mnz7d6JqPHj0Kd3d3ODo6AgBCQkJQUlICFxcXNDc348cff8Q333yD8PBwlJWVoaioyDDoHQBMmjQJAODq6ooffvjhNtcY0XUMAho0dDodnn32WezatQu7du1CQUEBXnzxRcPQzl3UanWP0/+0XQgBU1NTREVFYc+ePXBxcUFUVFS31w8ZMqTb4+effx52dnaG00fG+OnItF3L7ToFNGnSJOzZswcqlQpTp07FoUOH8PXXX8Pf39/wegsLCwB398iWdPdjENCg8Zvf/Aa7du2CVqtFZ2cnXn755ds6b951b+muHf/QoUOxf/9+LF26FNOmTTPcb7prFNKfGzduHBITE5GdnY36+vqbLkutVqOzsxOPPPIIvvvuO8MVS3l5efDx8QFwvWeSk5MDT09PjBs3DlVVVTh9+rThPhVEdwoHnaNBY+rUqTh+/DiCg4Oh0+kwadIkPProo0ZPf+bMGQQGBsLS0tIwyFtkZCTCw8NhYWEBNzc3/OpXv7rpZaYPPfQQnnnmGSQnJ2Pjxo29vu6JJ55AYGAgPvroIyQnJ2PJkiXo6OiAg4MD1qxZAwDw8fHBpUuX4O3tDZVKhXHjxuG+++4z+v0QGYuDzhERSY49AiIFnDt3DpGRkT0+l5qaigkTJvRxRUS9Y4+AiEhy/LKYiEhyDAIiIskxCIiIJMcgICKS3P8BIbDjyvV0xJkAAAAASUVORK5CYII=\n",
>>>>>>> refs/remotes/origin/master
      "text/plain": [
       "<Figure size 432x288 with 1 Axes>"
      ]
     },
     "metadata": {},
     "output_type": "display_data"
    },
    {
     "data": {
<<<<<<< HEAD
      "image/png": "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\n",
=======
      "image/png": "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\n",
>>>>>>> refs/remotes/origin/master
      "text/plain": [
       "<Figure size 432x288 with 1 Axes>"
      ]
     },
     "metadata": {},
     "output_type": "display_data"
    },
    {
     "data": {
<<<<<<< HEAD
      "image/png": "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\n",
=======
      "image/png": "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\n",
>>>>>>> refs/remotes/origin/master
      "text/plain": [
       "<Figure size 432x288 with 1 Axes>"
      ]
     },
     "metadata": {},
     "output_type": "display_data"
    },
    {
     "data": {
<<<<<<< HEAD
      "image/png": "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\n",
=======
      "image/png": "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\n",
>>>>>>> refs/remotes/origin/master
      "text/plain": [
       "<Figure size 432x288 with 1 Axes>"
      ]
     },
     "metadata": {},
     "output_type": "display_data"
    },
    {
<<<<<<< HEAD
     "ename": "ValueError",
     "evalue": "cannot convert float NaN to integer",
     "output_type": "error",
     "traceback": [
      "\u001b[0;31m---------------------------------------------------------------------------\u001b[0m",
      "\u001b[0;31mValueError\u001b[0m                                Traceback (most recent call last)",
      "\u001b[0;32m<ipython-input-80-2ac6d9a1fcfa>\u001b[0m in \u001b[0;36m<module>\u001b[0;34m()\u001b[0m\n\u001b[1;32m     36\u001b[0m \u001b[0mplt\u001b[0m\u001b[0;34m.\u001b[0m\u001b[0mshow\u001b[0m\u001b[0;34m(\u001b[0m\u001b[0;34m)\u001b[0m\u001b[0;34m\u001b[0m\u001b[0m\n\u001b[1;32m     37\u001b[0m \u001b[0;34m\u001b[0m\u001b[0m\n\u001b[0;32m---> 38\u001b[0;31m \u001b[0msns\u001b[0m\u001b[0;34m.\u001b[0m\u001b[0mdistplot\u001b[0m\u001b[0;34m(\u001b[0m\u001b[0mtitanic\u001b[0m\u001b[0;34m.\u001b[0m\u001b[0mloc\u001b[0m\u001b[0;34m[\u001b[0m\u001b[0;34m:\u001b[0m\u001b[0;34m,\u001b[0m\u001b[0;34m'age'\u001b[0m\u001b[0;34m]\u001b[0m\u001b[0;34m)\u001b[0m\u001b[0;34m\u001b[0m\u001b[0m\n\u001b[0m\u001b[1;32m     39\u001b[0m \u001b[0mplt\u001b[0m\u001b[0;34m.\u001b[0m\u001b[0mshow\u001b[0m\u001b[0;34m(\u001b[0m\u001b[0;34m)\u001b[0m\u001b[0;34m\u001b[0m\u001b[0m\n\u001b[1;32m     40\u001b[0m \u001b[0msns\u001b[0m\u001b[0;34m.\u001b[0m\u001b[0mdistplot\u001b[0m\u001b[0;34m(\u001b[0m\u001b[0mtitanic\u001b[0m\u001b[0;34m.\u001b[0m\u001b[0mloc\u001b[0m\u001b[0;34m[\u001b[0m\u001b[0;34m:\u001b[0m\u001b[0;34m',fare'\u001b[0m\u001b[0;34m]\u001b[0m\u001b[0;34m)\u001b[0m\u001b[0;34m\u001b[0m\u001b[0m\n",
      "\u001b[0;32m~/anaconda3/lib/python3.6/site-packages/seaborn/distributions.py\u001b[0m in \u001b[0;36mdistplot\u001b[0;34m(a, bins, hist, kde, rug, fit, hist_kws, kde_kws, rug_kws, fit_kws, color, vertical, norm_hist, axlabel, label, ax)\u001b[0m\n\u001b[1;32m    210\u001b[0m     \u001b[0;32mif\u001b[0m \u001b[0mhist\u001b[0m\u001b[0;34m:\u001b[0m\u001b[0;34m\u001b[0m\u001b[0m\n\u001b[1;32m    211\u001b[0m         \u001b[0;32mif\u001b[0m \u001b[0mbins\u001b[0m \u001b[0;32mis\u001b[0m \u001b[0;32mNone\u001b[0m\u001b[0;34m:\u001b[0m\u001b[0;34m\u001b[0m\u001b[0m\n\u001b[0;32m--> 212\u001b[0;31m             \u001b[0mbins\u001b[0m \u001b[0;34m=\u001b[0m \u001b[0mmin\u001b[0m\u001b[0;34m(\u001b[0m\u001b[0m_freedman_diaconis_bins\u001b[0m\u001b[0;34m(\u001b[0m\u001b[0ma\u001b[0m\u001b[0;34m)\u001b[0m\u001b[0;34m,\u001b[0m \u001b[0;36m50\u001b[0m\u001b[0;34m)\u001b[0m\u001b[0;34m\u001b[0m\u001b[0m\n\u001b[0m\u001b[1;32m    213\u001b[0m         \u001b[0mhist_kws\u001b[0m\u001b[0;34m.\u001b[0m\u001b[0msetdefault\u001b[0m\u001b[0;34m(\u001b[0m\u001b[0;34m\"alpha\"\u001b[0m\u001b[0;34m,\u001b[0m \u001b[0;36m0.4\u001b[0m\u001b[0;34m)\u001b[0m\u001b[0;34m\u001b[0m\u001b[0m\n\u001b[1;32m    214\u001b[0m         \u001b[0mhist_kws\u001b[0m\u001b[0;34m.\u001b[0m\u001b[0msetdefault\u001b[0m\u001b[0;34m(\u001b[0m\u001b[0;34m\"normed\"\u001b[0m\u001b[0;34m,\u001b[0m \u001b[0mnorm_hist\u001b[0m\u001b[0;34m)\u001b[0m\u001b[0;34m\u001b[0m\u001b[0m\n",
      "\u001b[0;32m~/anaconda3/lib/python3.6/site-packages/seaborn/distributions.py\u001b[0m in \u001b[0;36m_freedman_diaconis_bins\u001b[0;34m(a)\u001b[0m\n\u001b[1;32m     34\u001b[0m         \u001b[0;32mreturn\u001b[0m \u001b[0mint\u001b[0m\u001b[0;34m(\u001b[0m\u001b[0mnp\u001b[0m\u001b[0;34m.\u001b[0m\u001b[0msqrt\u001b[0m\u001b[0;34m(\u001b[0m\u001b[0ma\u001b[0m\u001b[0;34m.\u001b[0m\u001b[0msize\u001b[0m\u001b[0;34m)\u001b[0m\u001b[0;34m)\u001b[0m\u001b[0;34m\u001b[0m\u001b[0m\n\u001b[1;32m     35\u001b[0m     \u001b[0;32melse\u001b[0m\u001b[0;34m:\u001b[0m\u001b[0;34m\u001b[0m\u001b[0m\n\u001b[0;32m---> 36\u001b[0;31m         \u001b[0;32mreturn\u001b[0m \u001b[0mint\u001b[0m\u001b[0;34m(\u001b[0m\u001b[0mnp\u001b[0m\u001b[0;34m.\u001b[0m\u001b[0mceil\u001b[0m\u001b[0;34m(\u001b[0m\u001b[0;34m(\u001b[0m\u001b[0ma\u001b[0m\u001b[0;34m.\u001b[0m\u001b[0mmax\u001b[0m\u001b[0;34m(\u001b[0m\u001b[0;34m)\u001b[0m \u001b[0;34m-\u001b[0m \u001b[0ma\u001b[0m\u001b[0;34m.\u001b[0m\u001b[0mmin\u001b[0m\u001b[0;34m(\u001b[0m\u001b[0;34m)\u001b[0m\u001b[0;34m)\u001b[0m \u001b[0;34m/\u001b[0m \u001b[0mh\u001b[0m\u001b[0;34m)\u001b[0m\u001b[0;34m)\u001b[0m\u001b[0;34m\u001b[0m\u001b[0m\n\u001b[0m\u001b[1;32m     37\u001b[0m \u001b[0;34m\u001b[0m\u001b[0m\n\u001b[1;32m     38\u001b[0m \u001b[0;34m\u001b[0m\u001b[0m\n",
      "\u001b[0;31mValueError\u001b[0m: cannot convert float NaN to integer"
     ]
    },
    {
     "data": {
      "image/png": "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\n",
=======
     "data": {
      "image/png": "iVBORw0KGgoAAAANSUhEUgAAAXQAAAEFCAYAAADzHRw3AAAABHNCSVQICAgIfAhkiAAAAAlwSFlzAAALEgAACxIB0t1+/AAAADl0RVh0U29mdHdhcmUAbWF0cGxvdGxpYiB2ZXJzaW9uIDIuMi4yLCBodHRwOi8vbWF0cGxvdGxpYi5vcmcvhp/UCwAAEMJJREFUeJzt3G1M1fX/x/HXV9ShHIhY3YihhpaWOG1AesOjtZlhrdIWiFLoxOFWeZqbUnmFNi/L6R1IXW5tTpsXQGuuCystdTindjZ0nmatNa9SsWamnFgq5/xv/Pc7dUQB8cD38Ob5uMW58Jw3H/F5Pn455+uEw+GwAABdXg+3BwAAxAZBBwAjCDoAGEHQAcAIgg4ARhB0ADCip9sDAJ1lyJAhGjx4sHr0+HcfM2zYMK1YscLFqYDYIejoVjZv3qy0tDS3xwA6BEEHJFVXV2vHjh26ceOG/vrrL5WWlqqoqEiffvqpqqur1djYKI/Hoy1btqiqqkrbtm1TKBRSamqqFi9erEGDBrn9LQAEHd3L9OnTow65fPzxx0pMTFRVVZU++ugj3X///aqrq9OMGTNUVFQkSfrll1/03XffyePx6MiRI/rss8/0ySefqE+fPqqtrdXs2bP11VdfufUtAREEHd3KnQ65bNy4Ufv379epU6d08uRJ/f3335HbhgwZIo/HI0nat2+fTp8+rSlTpkRuv3r1qq5cuaLU1NSO/waAFhB0dHsXL15UYWGhJk+erJycHE2YMEHff/995Pa+fftGvg6FQpo4caLKysoily9duqT77ruv0+cGbsXbFtHtnThxQmlpaXrjjTfk9XojMW9qamp2X6/Xqy+++EKXLl2SJG3btk3Tp0/v1HmBO2GHjm5v9OjRqq6u1oQJE+Q4jkaOHKm0tDSdPn262X29Xq9KS0tVUlIix3Hk8XhUWVkpx3FcmByI5nD6XACwgUMuAGAEQQcAIwg6ABhB0AHACFff5eL3+918egDosnJycppd5/rbFm83VEfz+/2uPG+8Yj2isR7RWI/m3F6TO22GOeQCAEYQdAAwgqADgBEEHQCMIOgAYARBBwAjCDoAGEHQAcAIgg4ARrj+SVEA+K8nX3gt8vXRz7e6OEnXww4dAIwg6ABgBEEHACMIOgAYQdABwAiCDgBGEHQAMIKgA4ARBB0AjCDoAGAEQQcAIwg6ABhB0AHACIIOAEYQdAAwgqADgBEEHQCMIOgAYARBBwAjCDoAGEHQAcAIgg4ARvRs6cYbN25owYIF+u2333T9+nW9/vrreuSRR/Tuu+/KcRw9+uijWrJkiXr06KHKykrt27dPPXv21IIFCzR8+PDO+h4AAGol6Lt27VJqaqrWrFmjP//8Uy+//LIee+wxzZkzR6NGjVJ5ebn27t2r9PR0HTlyRFVVVbpw4YJ8Pp9qamo663sAAKiVoE+YMEF5eXmRywkJCQoEAho5cqQkaezYsTp48KAyMzPl9XrlOI7S09PV1NSky5cvKy0trWOnBwBEtBj0pKQkSVJDQ4PeeustzZkzR++//74cx4ncfu3aNTU0NCg1NTXqz127dq1NQff7/fcyf7u59bzxivWIxnpE499pc/E4W4tBl6QLFy7ozTffVFFRkV588UWtWbMmclswGFRKSoo8Ho+CwWDU9cnJyW0aICcnpx1j3xu/3+/K88Yr1iMa6xHNzfWI178Ht39G7vRi0uK7XP744w+VlJSorKxM+fn5kqShQ4fq8OHDkqQDBw4oNzdX2dnZqq2tVSgU0vnz5xUKhTjcAgCdrMUd+saNG3X16lWtX79e69evlyQtXLhQy5cv17p16zRw4EDl5eUpISFBubm5KiwsVCgUUnl5eacMDwD4V4tBX7RokRYtWtTs+q1btza7zufzyefzxW4yAMBd4YNFAGAEQQcAIwg6ABhB0AHACIIOAEYQdAAwgqADgBEEHQCMIOgAYARBBwAjCDoAGEHQAcAIgg4ARhB0ADCCoAOAEQQdAIwg6ABgBEEHACMIOgAYQdABwAiCDgBGEHQAMIKgA4ARBB0AjCDoAGAEQQcAIwg6ABhB0AHACIIOAEYQdAAwgqADgBEEHQCMIOgAYARBBwAjCDoAGEHQAcAIgg4ARrQp6MeOHVNxcbEkKRAIaMyYMSouLlZxcbG+/PJLSVJlZaXy8/M1ZcoUHT9+vOMmBgDcVs/W7rBp0ybt2rVLffr0kST9+OOPmjFjhkpKSiL3CQQCOnLkiKqqqnThwgX5fD7V1NR03NQAgGZa3aH3799fFRUVkcsnTpzQvn379Oqrr2rBggVqaGiQ3++X1+uV4zhKT09XU1OTLl++3KGDAwCitbpDz8vL07lz5yKXhw8froKCAg0bNkwbNmzQhx9+qOTkZKWmpkbuk5SUpGvXriktLa3VAfx+fztHvzduPW+8Yj2isR7R+HfaXDzO1mrQbzV+/HilpKREvl62bJnGjRunYDAYuU8wGFRycnKbHi8nJ+duR7hnfr/fleeNV6xHNNYjmpvrEa9/D27/jNzpxeSu3+Uyc+bMyC89Dx06pKysLGVnZ6u2tlahUEjnz59XKBRq0+4cABA7d71DX7p0qZYtW6ZevXrpgQce0LJly+TxeJSbm6vCwkKFQiGVl5d3xKwAgBa0KegZGRnauXOnJCkrK0vbt29vdh+fzyefzxfb6QAAbcYHiwDACIIOAEYQdAAwgqADgBEEHQCMIOgAYARBBwAjCDoAGEHQAcAIgg4ARhB0ADCCoAOAEQQdAIwg6ABgBEEHACMIOgAYQdABwAiCDgBGEHQAMIKgA4ARBB0AjCDoAGAEQQcAIwg6ABhB0AHACIIOAEYQdAAwgqADgBEEHQCMIOgAYARBBwAjCDoAGEHQAcAIgg4ARhB0ADCCoAOAEQQdAIwg6ABgRJuCfuzYMRUXF0uSTp8+ralTp6qoqEhLlixRKBSSJFVWVio/P19TpkzR8ePHO25iAMBt9WztDps2bdKuXbvUp08fSdKqVas0Z84cjRo1SuXl5dq7d6/S09N15MgRVVVV6cKFC/L5fKqpqenw4QHgv5584bXI10c/3+riJO5oNej9+/dXRUWF3n77bUlSIBDQyJEjJUljx47VwYMHlZmZKa/XK8dxlJ6erqamJl2+fFlpaWmtDuD3++/xW2gft543XrEe0ViPaF3x32lHzxyPPyOtBj0vL0/nzp2LXA6Hw3IcR5KUlJSka9euqaGhQampqZH7/O/6tgQ9JyenPXPfE7/f78rzxivWIxrrEc3N9biX5+3Imd3+GbnTi8ld/1K0R49//0gwGFRKSoo8Ho+CwWDU9cnJye0YEwDQXncd9KFDh+rw4cOSpAMHDig3N1fZ2dmqra1VKBTS+fPnFQqF2rQ7BwDETquHXG71zjvvaPHixVq3bp0GDhyovLw8JSQkKDc3V4WFhQqFQiovL++IWQEALWhT0DMyMrRz505JUmZmprZubf7bY5/PJ5/PF9vpAABtxgeLAMAIgg4ARhB0ADCCoAOAEQQdAIwg6ABgBEEHACMIOgAYQdABwAiCDgBGEHQAMIKgA4ARBB0AjCDoAGAEQQcAIwg6ABhB0AHACIIOAEYQdAAwgqADgBEEHQCMIOgAYERPtwcAgLZ48oXXIl8f/Xyri5PEL3boAGAEO3QArvvv7hvtxw4dAIwg6ABgBEEHACMIOgAYQdABwAje5QKgy+E96bfHDh0AjCDoAGAEQQcAIziGDiBu8QnSu8MOHQCMYIcOwKTu+E6Ydgd90qRJSk5OliRlZGSosLBQK1asUEJCgrxer2bPnh2zIQEArWtX0P/55x9J0pYtWyLXTZw4URUVFerXr59mzZqlQCCgrKys2EwJAGhVu46hnzx5Uo2NjSopKdG0adN09OhRXb9+Xf3795fjOPJ6vTp06FCsZwUAtKBdO/TExETNnDlTBQUFOnXqlEpLS5WSkhK5PSkpSWfPnm3TY/n9/vaMcM/cet54xXpEYz2ixfN6tGW2jpg/HtekXUHPzMzUgAED5DiOMjMzlZycrCtXrkRuDwaDUYFvSU5OTntGuCd+v9+V541XrEc01iNavK9HW2aL9fxur8mdXkzadcilurpaq1evliTV19ersbFRffv21ZkzZxQOh1VbW6vc3Nz2TwsAuGvt2qHn5+dr/vz5mjp1qhzH0cqVK9WjRw/NmzdPTU1N8nq9GjFiRKxnBYAOY+Ftju0Keu/evbV27dpm1+/cufOeBwIAtA+fFAUAIwg6ABhB0AHACIIOAEYQdAAwgrMtAujSOGf6v9ihA4ARBB0AjCDoAGAEQQcAIwg6ABhB0AHACIIOAEbwPnQA3YqF0+TeCTt0ADCCHToA8+70aVJrnzJlhw4ARhB0ADCCoAOAEQQdAIwg6ABgBEEHACMIOgAYQdABwAiCDgBG8ElRAGijeD8PTJcNerwvLICuq6ueEoBDLgBgBEEHACMIOgAY0WWPoQNAvIiX3+mxQwcAIwg6ABhB0AHACI6hA0AMuXk8nR06ABhB0AHAiJgecgmFQlq6dKl++ukn9e7dW8uXL9eAAQNi+RQA0CV1xqGYmO7Q9+zZo+vXr2vHjh2aO3euVq9eHcuHBwC0IKY7dL/frzFjxkiSnnjiCZ04cSKWDw+gC+uqJ7zqSpxwOByO1YMtXLhQzz77rJ566ilJ0tNPP609e/aoZ8/bv274/f5YPTUAdCs5OTnNrovpDt3j8SgYDEYuh0KhO8b8TgMBANonpsfQs7OzdeDAAUlSXV2dBg8eHMuHBwC0IKaHXP73Lpeff/5Z4XBYK1eu1KBBg2L18ACAFsQ06AAA9/DBIgAwgqADgBEEHQCM6HZnW/z222+1e/durV27VpL0zTff6IMPPtBDDz0kSfL5fBo5cqSbI3aqW9ejrq5OK1asUEJCgrxer2bPnu3yhJ0vHA5r7NixevjhhyX9/4fk5s6d6+5QLuBUHs1NmjRJycnJkqSMjAytWrXK5YmidaugL1++XLW1tXr88ccj1wUCAZWVlSkvL8/Fydxxu/VYsmSJKioq1K9fP82aNUuBQEBZWVkuTtn5zpw5o6ysLG3cuNHtUVz131N51NXVafXq1dqwYYPbY7nmn3/+kSRt2bLF5UnurFsdcsnOztbSpUujrgsEAqqpqVFRUZFWr16tmzdvujOcC25dj4aGBl2/fl39+/eX4zjyer06dOiQewO6JBAIqL6+XsXFxSotLdWvv/7q9kiu4FQe0U6ePKnGxkaVlJRo2rRpqqurc3ukZkzu0KuqqrR58+ao61auXKnnn39ehw8fjrp+9OjReuaZZ5SRkaElS5Zo+/bteu01W+ecaOt6NDQ0yOPxRC4nJSXp7NmznTanG263NuXl5Zo1a5aee+45/fDDDyorK1NNTY1LE7rn1p+HhIQE3bx5s8VPf1uWmJiomTNnqqCgQKdOnVJpaal2794dV+sRP5PEUEFBgQoKCtp031deeUUpKSmSpHHjxunrr7/uyNFc0db1uPXUDcFgMLI2Vt1ubRobG5WQkCBJys3NVX19vcLhsBzHcWNE19ztqTysy8zM1IABA+Q4jjIzM5Wamqrff/898vu3eNCtDrncKhwO66WXXtLFixclSYcOHep2x4v/y+PxqFevXjpz5ozC4bBqa2uVm5vr9lidrrKyMrJrP3nypNLT07tdzCVO5XGr6urqyCnB6+vr1dDQoAcffNDlqaJ135dbSY7jaPny5Zo9e7YSExM1aNAgTZ482e2xXPXee+9p3rx5ampqktfr1YgRI9weqdPNmjVLZWVl2r9/vxISEuLunQydZfz48Tp48KCmTJkSOZVHd5afn6/58+dr6tSpchxHK1eujLv/sfDRfwAwolsfcgEASwg6ABhB0AHACIIOAEYQdAAwgqADgBEEHQCM+D9BILL4jiZ6aAAAAABJRU5ErkJggg==\n",
>>>>>>> refs/remotes/origin/master
      "text/plain": [
       "<Figure size 432x288 with 1 Axes>"
      ]
     },
     "metadata": {},
     "output_type": "display_data"
    }
   ],
   "source": [
<<<<<<< HEAD
    "import seaborn as sns\n",
    "import matplotlib.pyplot as plt\n",
    "\n",
    "# Load dataset\n",
    "titanic = sns.load_dataset('titanic')\n",
    "print(titanic.head())\n",
=======
    "sns.set(style=\"whitegrid\", palette = \"Blues_d\")\n",
>>>>>>> refs/remotes/origin/master
    "\n",
    "sns.countplot(x = 'survived', data = titanic)\n",
    "plt.show()\n",
    "sns.countplot(x = 'pclass', data = titanic)\n",
    "plt.show()\n",
    "sns.countplot(x = 'sex', data = titanic)\n",
    "plt.show()\n",
    "\n",
    "sns.countplot(x = 'sibsp', data = titanic)\n",
    "plt.show()\n",
    "sns.countplot(x = 'parch', data = titanic)\n",
    "plt.show()\n",
    "sns.countplot(x = 'embarked', data = titanic)\n",
    "plt.show()\n",
    "sns.countplot(x = 'class', data = titanic)\n",
    "plt.show()\n",
    "sns.countplot(x = 'class', data = titanic)\n",
    "plt.show()\n",
    "sns.countplot(x = 'who', data = titanic)\n",
    "plt.show()\n",
    "sns.countplot(x = 'adult_male', data = titanic)\n",
    "plt.show()\n",
<<<<<<< HEAD
    "sns.countplot(x = 'deck', data = titanic)\n",
    "plt.show()\n",
=======
>>>>>>> refs/remotes/origin/master
    "sns.countplot(x = 'embark_town', data = titanic)\n",
    "plt.show()\n",
    "sns.countplot(x = 'alone', data = titanic)\n",
    "plt.show()\n",
    "sns.countplot(x = 'alive', data = titanic)\n",
    "plt.show()\n",
    "\n",
<<<<<<< HEAD
    "sns.distplot(titanic.loc[:,'age'])\n",
    "plt.show()\n",
    "sns.distplot(titanic.loc[:',fare'])\n",
=======
    "plt.hist(titanic.loc[:,'age'])\n",
    "plt.title('Age')\n",
    "plt.show()\n",
    "plt.hist(titanic.loc[:,'fare'], bins = 100)\n",
    "plt.title('Fare')\n",
>>>>>>> refs/remotes/origin/master
    "plt.show()\n"
   ]
  },
  {
   "cell_type": "code",
   "execution_count": null,
   "metadata": {},
   "outputs": [],
   "source": []
  }
 ],
 "metadata": {
  "kernelspec": {
   "display_name": "Python 3",
   "language": "python",
   "name": "python3"
  },
  "language_info": {
   "codemirror_mode": {
    "name": "ipython",
    "version": 3
   },
   "file_extension": ".py",
   "mimetype": "text/x-python",
   "name": "python",
   "nbconvert_exporter": "python",
   "pygments_lexer": "ipython3",
   "version": "3.6.5"
  }
 },
 "nbformat": 4,
 "nbformat_minor": 2
}
